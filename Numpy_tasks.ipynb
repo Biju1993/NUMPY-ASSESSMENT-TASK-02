{
 "cells": [
  {
   "cell_type": "markdown",
   "metadata": {},
   "source": [
    "# Numpy\n",
    "\n"
   ]
  },
  {
   "cell_type": "markdown",
   "metadata": {},
   "source": [
    "#### 1. Import the numpy package under the name `np` (★☆☆) \n",
    "(**hint**: import … as …)"
   ]
  },
  {
   "cell_type": "code",
   "execution_count": 2,
   "metadata": {},
   "outputs": [],
   "source": [
    "import numpy as np"
   ]
  },
  {
   "cell_type": "markdown",
   "metadata": {},
   "source": [
    "#### 2. Print the numpy version and the configuration (★☆☆) \n",
    "(**hint**: np.\\_\\_version\\_\\_, np.show\\_config)"
   ]
  },
  {
   "cell_type": "code",
   "execution_count": 5,
   "metadata": {},
   "outputs": [
    {
     "name": "stdout",
     "output_type": "stream",
     "text": [
      "1.22.3\n",
      "openblas64__info:\n",
      "    library_dirs = ['D:\\\\a\\\\1\\\\s\\\\numpy\\\\build\\\\openblas64__info']\n",
      "    libraries = ['openblas64__info']\n",
      "    language = f77\n",
      "    define_macros = [('HAVE_CBLAS', None), ('BLAS_SYMBOL_SUFFIX', '64_'), ('HAVE_BLAS_ILP64', None)]\n",
      "blas_ilp64_opt_info:\n",
      "    library_dirs = ['D:\\\\a\\\\1\\\\s\\\\numpy\\\\build\\\\openblas64__info']\n",
      "    libraries = ['openblas64__info']\n",
      "    language = f77\n",
      "    define_macros = [('HAVE_CBLAS', None), ('BLAS_SYMBOL_SUFFIX', '64_'), ('HAVE_BLAS_ILP64', None)]\n",
      "openblas64__lapack_info:\n",
      "    library_dirs = ['D:\\\\a\\\\1\\\\s\\\\numpy\\\\build\\\\openblas64__lapack_info']\n",
      "    libraries = ['openblas64__lapack_info']\n",
      "    language = f77\n",
      "    define_macros = [('HAVE_CBLAS', None), ('BLAS_SYMBOL_SUFFIX', '64_'), ('HAVE_BLAS_ILP64', None), ('HAVE_LAPACKE', None)]\n",
      "lapack_ilp64_opt_info:\n",
      "    library_dirs = ['D:\\\\a\\\\1\\\\s\\\\numpy\\\\build\\\\openblas64__lapack_info']\n",
      "    libraries = ['openblas64__lapack_info']\n",
      "    language = f77\n",
      "    define_macros = [('HAVE_CBLAS', None), ('BLAS_SYMBOL_SUFFIX', '64_'), ('HAVE_BLAS_ILP64', None), ('HAVE_LAPACKE', None)]\n",
      "Supported SIMD extensions in this NumPy install:\n",
      "    baseline = SSE,SSE2,SSE3\n",
      "    found = SSSE3,SSE41,POPCNT,SSE42,AVX,F16C,FMA3,AVX2\n",
      "    not found = AVX512F,AVX512CD,AVX512_SKX,AVX512_CLX,AVX512_CNL\n",
      "None\n"
     ]
    }
   ],
   "source": [
    "print(np.__version__)\n",
    "print(np.show_config())"
   ]
  },
  {
   "cell_type": "markdown",
   "metadata": {},
   "source": [
    "#### 3. Create a null vector of size 10 (★☆☆) \n",
    "(**hint**: np.zeros)"
   ]
  },
  {
   "cell_type": "code",
   "execution_count": 6,
   "metadata": {},
   "outputs": [
    {
     "name": "stdout",
     "output_type": "stream",
     "text": [
      "[0. 0. 0. 0. 0. 0. 0. 0. 0. 0.]\n"
     ]
    }
   ],
   "source": [
    "x = np.zeros(10)\n",
    "print(x)"
   ]
  },
  {
   "cell_type": "markdown",
   "metadata": {},
   "source": [
    "#### 4.  How to find the memory size of any array (★☆☆) \n",
    "(**hint**: size, itemsize)"
   ]
  },
  {
   "cell_type": "code",
   "execution_count": 11,
   "metadata": {},
   "outputs": [
    {
     "name": "stdout",
     "output_type": "stream",
     "text": [
      "Size of the array:  7\n",
      "Memory size of one array element in bytes:  4\n"
     ]
    }
   ],
   "source": [
    "x = np.array([1,2,3,4,5,6,7])\n",
    "  \n",
    "print(\"Size of the array: \",x.size)\n",
    "  \n",
    "print(\"Memory size of one array element in bytes: \",x.itemsize)\n",
    "  "
   ]
  },
  {
   "cell_type": "markdown",
   "metadata": {},
   "source": [
    "#### 5.  How to get the documentation of the numpy add function from the command line? (★☆☆) \n",
    "(**hint**: np.info)"
   ]
  },
  {
   "cell_type": "code",
   "execution_count": 10,
   "metadata": {},
   "outputs": [
    {
     "name": "stdout",
     "output_type": "stream",
     "text": [
      "add(x1, x2, /, out=None, *, where=True, casting='same_kind', order='K', dtype=None, subok=True[, signature, extobj])\n",
      "\n",
      "Add arguments element-wise.\n",
      "\n",
      "Parameters\n",
      "----------\n",
      "x1, x2 : array_like\n",
      "    The arrays to be added.\n",
      "    If ``x1.shape != x2.shape``, they must be broadcastable to a common\n",
      "    shape (which becomes the shape of the output).\n",
      "out : ndarray, None, or tuple of ndarray and None, optional\n",
      "    A location into which the result is stored. If provided, it must have\n",
      "    a shape that the inputs broadcast to. If not provided or None,\n",
      "    a freshly-allocated array is returned. A tuple (possible only as a\n",
      "    keyword argument) must have length equal to the number of outputs.\n",
      "where : array_like, optional\n",
      "    This condition is broadcast over the input. At locations where the\n",
      "    condition is True, the `out` array will be set to the ufunc result.\n",
      "    Elsewhere, the `out` array will retain its original value.\n",
      "    Note that if an uninitialized `out` array is created via the default\n",
      "    ``out=None``, locations within it where the condition is False will\n",
      "    remain uninitialized.\n",
      "**kwargs\n",
      "    For other keyword-only arguments, see the\n",
      "    :ref:`ufunc docs <ufuncs.kwargs>`.\n",
      "\n",
      "Returns\n",
      "-------\n",
      "add : ndarray or scalar\n",
      "    The sum of `x1` and `x2`, element-wise.\n",
      "    This is a scalar if both `x1` and `x2` are scalars.\n",
      "\n",
      "Notes\n",
      "-----\n",
      "Equivalent to `x1` + `x2` in terms of array broadcasting.\n",
      "\n",
      "Examples\n",
      "--------\n",
      ">>> np.add(1.0, 4.0)\n",
      "5.0\n",
      ">>> x1 = np.arange(9.0).reshape((3, 3))\n",
      ">>> x2 = np.arange(3.0)\n",
      ">>> np.add(x1, x2)\n",
      "array([[  0.,   2.,   4.],\n",
      "       [  3.,   5.,   7.],\n",
      "       [  6.,   8.,  10.]])\n",
      "\n",
      "The ``+`` operator can be used as a shorthand for ``np.add`` on ndarrays.\n",
      "\n",
      ">>> x1 = np.arange(9.0).reshape((3, 3))\n",
      ">>> x2 = np.arange(3.0)\n",
      ">>> x1 + x2\n",
      "array([[ 0.,  2.,  4.],\n",
      "       [ 3.,  5.,  7.],\n",
      "       [ 6.,  8., 10.]])\n"
     ]
    }
   ],
   "source": [
    "np.info(np.add)"
   ]
  },
  {
   "cell_type": "markdown",
   "metadata": {},
   "source": [
    "#### 6.  Create a null vector of size 10 but the fifth value which is 1 (★☆☆) \n",
    "(**hint**: array\\[4\\])"
   ]
  },
  {
   "cell_type": "code",
   "execution_count": 12,
   "metadata": {},
   "outputs": [
    {
     "name": "stdout",
     "output_type": "stream",
     "text": [
      "[0. 0. 0. 0. 0. 0. 0. 0. 0. 0.]\n",
      "[0. 0. 0. 0. 1. 0. 0. 0. 0. 0.]\n"
     ]
    }
   ],
   "source": [
    "x = np.zeros(10)\n",
    "print(x)\n",
    "x[4]=1\n",
    "print(x)"
   ]
  },
  {
   "cell_type": "markdown",
   "metadata": {},
   "source": [
    "#### 7.  Create a vector with values ranging from 10 to 49 (★☆☆) \n",
    "(**hint**: np.arange)"
   ]
  },
  {
   "cell_type": "code",
   "execution_count": 13,
   "metadata": {},
   "outputs": [
    {
     "data": {
      "text/plain": [
       "array([10, 11, 12, 13, 14, 15, 16, 17, 18, 19, 20, 21, 22, 23, 24, 25, 26,\n",
       "       27, 28, 29, 30, 31, 32, 33, 34, 35, 36, 37, 38, 39, 40, 41, 42, 43,\n",
       "       44, 45, 46, 47, 48])"
      ]
     },
     "execution_count": 13,
     "metadata": {},
     "output_type": "execute_result"
    }
   ],
   "source": [
    "np.arange(10,49)"
   ]
  },
  {
   "cell_type": "markdown",
   "metadata": {},
   "source": [
    "#### 8.  Reverse a vector (first element becomes last) (★☆☆) \n",
    "(**hint**: array\\[::-1\\])"
   ]
  },
  {
   "cell_type": "code",
   "execution_count": 14,
   "metadata": {},
   "outputs": [
    {
     "name": "stdout",
     "output_type": "stream",
     "text": [
      "[1 2 3 4 5 6 7 8 9]\n",
      "[9 8 7 6 5 4 3 2 1]\n"
     ]
    }
   ],
   "source": [
    "x=np.arange(1,10)\n",
    "print(x)\n",
    "print(x[::-1])"
   ]
  },
  {
   "cell_type": "markdown",
   "metadata": {},
   "source": [
    "#### 9.  Create a 3x3 matrix with values ranging from 0 to 8 (★☆☆) \n",
    "(**hint**: reshape)"
   ]
  },
  {
   "cell_type": "code",
   "execution_count": 15,
   "metadata": {},
   "outputs": [
    {
     "name": "stdout",
     "output_type": "stream",
     "text": [
      "[[6 3 3]\n",
      " [1 2 0]\n",
      " [0 5 0]]\n"
     ]
    }
   ],
   "source": [
    "arr=np.random.randint(0,8, size=(3, 3))\n",
    "print(arr)"
   ]
  },
  {
   "cell_type": "markdown",
   "metadata": {},
   "source": [
    "#### 10. Find indices of non-zero elements from \\[1,2,0,0,4,0\\] (★☆☆) \n",
    "(**hint**: np.nonzero)"
   ]
  },
  {
   "cell_type": "code",
   "execution_count": 16,
   "metadata": {},
   "outputs": [
    {
     "data": {
      "text/plain": [
       "array([0, 1, 4], dtype=int64)"
      ]
     },
     "execution_count": 16,
     "metadata": {},
     "output_type": "execute_result"
    }
   ],
   "source": [
    "x=np.array([1,2,0,0,4,0])\n",
    "np.flatnonzero(x)"
   ]
  },
  {
   "cell_type": "markdown",
   "metadata": {},
   "source": [
    "#### 11. Create a 3x3 identity matrix (★☆☆) \n",
    "(**hint**: np.eye)"
   ]
  },
  {
   "cell_type": "code",
   "execution_count": 23,
   "metadata": {},
   "outputs": [
    {
     "data": {
      "text/plain": [
       "array([[1., 0., 0.],\n",
       "       [0., 1., 0.],\n",
       "       [0., 0., 1.]])"
      ]
     },
     "execution_count": 23,
     "metadata": {},
     "output_type": "execute_result"
    }
   ],
   "source": [
    "np.eye(3, k=-0)"
   ]
  },
  {
   "cell_type": "markdown",
   "metadata": {},
   "source": [
    "#### 12. Create a 3x3x3 array with random values (★☆☆) \n",
    "(**hint**: np.random.random)"
   ]
  },
  {
   "cell_type": "code",
   "execution_count": 26,
   "metadata": {},
   "outputs": [
    {
     "name": "stdout",
     "output_type": "stream",
     "text": [
      "[[[0.92377994 0.13411602 0.14732067]\n",
      "  [0.29404279 0.79192164 0.13415938]\n",
      "  [0.73026763 0.46082292 0.2304299 ]]\n",
      "\n",
      " [[0.14096617 0.41233227 0.63633171]\n",
      "  [0.97219877 0.92206884 0.65754969]\n",
      "  [0.26824916 0.71168847 0.53597393]]\n",
      "\n",
      " [[0.34547613 0.21539508 0.90119898]\n",
      "  [0.8725188  0.443098   0.71202552]\n",
      "  [0.3495127  0.28450982 0.8516554 ]]]\n"
     ]
    }
   ],
   "source": [
    "arr=np.random.rand(3,3,3)\n",
    "print(arr)"
   ]
  },
  {
   "cell_type": "markdown",
   "metadata": {},
   "source": [
    "#### 13. Create a 10x10 array with random values and find the minimum and maximum values (★☆☆) \n",
    "(**hint**: min, max)"
   ]
  },
  {
   "cell_type": "code",
   "execution_count": 4,
   "metadata": {},
   "outputs": [
    {
     "name": "stdout",
     "output_type": "stream",
     "text": [
      "0.0006049626695412424\n",
      "0.9990564339332357\n"
     ]
    }
   ],
   "source": [
    "arr=np.random.rand(10,10)\n",
    "print(np.amin(arr))\n",
    "print(np.amax(arr))"
   ]
  },
  {
   "cell_type": "markdown",
   "metadata": {},
   "source": [
    "#### 14. Create a random vector of size 30 and find the mean value (★☆☆) \n",
    "(**hint**: mean)"
   ]
  },
  {
   "cell_type": "code",
   "execution_count": 6,
   "metadata": {},
   "outputs": [
    {
     "name": "stdout",
     "output_type": "stream",
     "text": [
      "0.12048218418523107\n"
     ]
    }
   ],
   "source": [
    "arr=np.random.randn(1, 30)\n",
    "print(np.mean(arr))"
   ]
  },
  {
   "cell_type": "markdown",
   "metadata": {},
   "source": [
    "#### 15. Create a 2d array with 1 on the border and 0 inside (★☆☆) \n",
    "(**hint**: array\\[1:-1, 1:-1\\])"
   ]
  },
  {
   "cell_type": "code",
   "execution_count": 7,
   "metadata": {},
   "outputs": [
    {
     "name": "stdout",
     "output_type": "stream",
     "text": [
      "Original array:\n",
      "[[1. 1. 1. 1. 1.]\n",
      " [1. 1. 1. 1. 1.]\n",
      " [1. 1. 1. 1. 1.]\n",
      " [1. 1. 1. 1. 1.]\n",
      " [1. 1. 1. 1. 1.]]\n",
      "1 on the border and 0 inside in the array\n",
      "[[1. 1. 1. 1. 1.]\n",
      " [1. 0. 0. 0. 1.]\n",
      " [1. 0. 0. 0. 1.]\n",
      " [1. 0. 0. 0. 1.]\n",
      " [1. 1. 1. 1. 1.]]\n"
     ]
    }
   ],
   "source": [
    "x = np.ones((5,5))\n",
    "print(\"Original array:\")\n",
    "print(x)\n",
    "print(\"1 on the border and 0 inside in the array\")\n",
    "x[1:-1,1:-1] = 0\n",
    "print(x)"
   ]
  },
  {
   "cell_type": "markdown",
   "metadata": {},
   "source": [
    "#### 16. How to add a border (filled with 0's) around an existing array? (★☆☆) \n",
    "(**hint**: np.pad)"
   ]
  },
  {
   "cell_type": "code",
   "execution_count": 14,
   "metadata": {},
   "outputs": [
    {
     "name": "stdout",
     "output_type": "stream",
     "text": [
      "[0 0 1 2 3 4 5 0 0 0]\n",
      "\n",
      "\n",
      "\n",
      "[[0. 0. 0. 0. 0. 0. 0. 0. 0. 0.]\n",
      " [0. 0. 0. 0. 0. 0. 0. 0. 0. 0.]\n",
      " [0. 0. 1. 1. 1. 1. 1. 0. 0. 0.]\n",
      " [0. 0. 1. 1. 1. 1. 1. 0. 0. 0.]\n",
      " [0. 0. 1. 1. 1. 1. 1. 0. 0. 0.]\n",
      " [0. 0. 1. 1. 1. 1. 1. 0. 0. 0.]\n",
      " [0. 0. 1. 1. 1. 1. 1. 0. 0. 0.]\n",
      " [0. 0. 0. 0. 0. 0. 0. 0. 0. 0.]\n",
      " [0. 0. 0. 0. 0. 0. 0. 0. 0. 0.]\n",
      " [0. 0. 0. 0. 0. 0. 0. 0. 0. 0.]]\n"
     ]
    }
   ],
   "source": [
    "a = [1, 2, 3, 4, 5]\n",
    "print(np.pad(a, (2, 3), 'constant', constant_values=(0, 0)))\n",
    "print(\"\\n\\n\")\n",
    "x = np.ones((5,5))\n",
    "print(np.pad(x, (2, 3), 'constant', constant_values=(0, 0)))\n"
   ]
  },
  {
   "cell_type": "markdown",
   "metadata": {},
   "source": [
    "#### 17. What is the result of the following expression? (★☆☆) \n",
    "(**hint**: NaN = not a number, inf = infinity)"
   ]
  },
  {
   "cell_type": "markdown",
   "metadata": {},
   "source": [
    "```python\n",
    "0 * np.nan\n",
    "np.nan == np.nan\n",
    "np.inf > np.nan\n",
    "np.nan - np.nan\n",
    "0.3 == 3 * 0.1\n",
    "```"
   ]
  },
  {
   "cell_type": "code",
   "execution_count": 25,
   "metadata": {},
   "outputs": [
    {
     "name": "stdout",
     "output_type": "stream",
     "text": [
      "nan \n",
      " False \n",
      " False \n",
      " nan \n",
      " False\n"
     ]
    }
   ],
   "source": [
    "print(0 * np.nan,\"\\n\",\n",
    "np.nan == np.nan,\"\\n\",\n",
    "np.inf > np.nan,\"\\n\",\n",
    "np.nan - np.nan,\"\\n\",\n",
    "0.3 == 3 * 0.1)"
   ]
  },
  {
   "cell_type": "markdown",
   "metadata": {},
   "source": [
    "#### 18. Create a 5x5 matrix with values 1,2,3,4 just below the diagonal (★☆☆) \n",
    "(**hint**: np.diag)"
   ]
  },
  {
   "cell_type": "code",
   "execution_count": null,
   "metadata": {},
   "outputs": [],
   "source": [
    "matrix=np.diag(np.arange(1,5),k=-1)\n",
    "print(matrix)"
   ]
  },
  {
   "cell_type": "markdown",
   "metadata": {},
   "source": [
    "#### 19. Create a 8x8 matrix and fill it with a checkerboard pattern (★☆☆) \n",
    "(**hint**: array\\[::2\\])"
   ]
  },
  {
   "cell_type": "code",
   "execution_count": 26,
   "metadata": {},
   "outputs": [
    {
     "name": "stdout",
     "output_type": "stream",
     "text": [
      "[[0 1 0 1 0 1 0 1]\n",
      " [1 0 1 0 1 0 1 0]\n",
      " [0 1 0 1 0 1 0 1]\n",
      " [1 0 1 0 1 0 1 0]\n",
      " [0 1 0 1 0 1 0 1]\n",
      " [1 0 1 0 1 0 1 0]\n",
      " [0 1 0 1 0 1 0 1]\n",
      " [1 0 1 0 1 0 1 0]]\n"
     ]
    }
   ],
   "source": [
    "x = np.zeros((8,8),dtype=int)\n",
    "x[1::2,::2] = 1\n",
    "x[::2,1::2] = 1\n",
    "print(x)"
   ]
  },
  {
   "cell_type": "markdown",
   "metadata": {},
   "source": [
    "#### 20. Consider a (6,7,8) shape array, what is the index (x,y,z) of the 100th element? \n",
    "(**hint**: np.unravel_index)"
   ]
  },
  {
   "cell_type": "code",
   "execution_count": 32,
   "metadata": {},
   "outputs": [
    {
     "data": {
      "text/plain": [
       "(1, 5, 4)"
      ]
     },
     "execution_count": 32,
     "metadata": {},
     "output_type": "execute_result"
    }
   ],
   "source": [
    "# arr=np.random.rand(6,7,8)\n",
    "# print(arr)\n",
    "np.unravel_index(100, (6,7,8))"
   ]
  },
  {
   "cell_type": "markdown",
   "metadata": {},
   "source": [
    "#### 21. Create a checkerboard 8x8 matrix using the tile function (★☆☆) \n",
    "(**hint**: np.tile)"
   ]
  },
  {
   "cell_type": "code",
   "execution_count": 33,
   "metadata": {},
   "outputs": [
    {
     "data": {
      "text/plain": [
       "array([[1, 0, 1, 0, 1, 0, 1, 0, 1, 0, 1, 0, 1, 0, 1, 0],\n",
       "       [0, 1, 0, 1, 0, 1, 0, 1, 0, 1, 0, 1, 0, 1, 0, 1],\n",
       "       [1, 0, 1, 0, 1, 0, 1, 0, 1, 0, 1, 0, 1, 0, 1, 0],\n",
       "       [0, 1, 0, 1, 0, 1, 0, 1, 0, 1, 0, 1, 0, 1, 0, 1],\n",
       "       [1, 0, 1, 0, 1, 0, 1, 0, 1, 0, 1, 0, 1, 0, 1, 0],\n",
       "       [0, 1, 0, 1, 0, 1, 0, 1, 0, 1, 0, 1, 0, 1, 0, 1],\n",
       "       [1, 0, 1, 0, 1, 0, 1, 0, 1, 0, 1, 0, 1, 0, 1, 0],\n",
       "       [0, 1, 0, 1, 0, 1, 0, 1, 0, 1, 0, 1, 0, 1, 0, 1],\n",
       "       [1, 0, 1, 0, 1, 0, 1, 0, 1, 0, 1, 0, 1, 0, 1, 0],\n",
       "       [0, 1, 0, 1, 0, 1, 0, 1, 0, 1, 0, 1, 0, 1, 0, 1],\n",
       "       [1, 0, 1, 0, 1, 0, 1, 0, 1, 0, 1, 0, 1, 0, 1, 0],\n",
       "       [0, 1, 0, 1, 0, 1, 0, 1, 0, 1, 0, 1, 0, 1, 0, 1],\n",
       "       [1, 0, 1, 0, 1, 0, 1, 0, 1, 0, 1, 0, 1, 0, 1, 0],\n",
       "       [0, 1, 0, 1, 0, 1, 0, 1, 0, 1, 0, 1, 0, 1, 0, 1],\n",
       "       [1, 0, 1, 0, 1, 0, 1, 0, 1, 0, 1, 0, 1, 0, 1, 0],\n",
       "       [0, 1, 0, 1, 0, 1, 0, 1, 0, 1, 0, 1, 0, 1, 0, 1]])"
      ]
     },
     "execution_count": 33,
     "metadata": {},
     "output_type": "execute_result"
    }
   ],
   "source": [
    "b = np.array([[1, 0], [0, 1]])\n",
    "\n",
    "np.tile(b, (8, 8))\n"
   ]
  },
  {
   "cell_type": "markdown",
   "metadata": {},
   "source": [
    "#### 22. Normalize a 5x5 random matrix (★☆☆) \n",
    "(**hint**: (x - min) / (max - min))"
   ]
  },
  {
   "cell_type": "code",
   "execution_count": 35,
   "metadata": {},
   "outputs": [
    {
     "name": "stdout",
     "output_type": "stream",
     "text": [
      "Original Array:\n",
      "[[0.82737968 0.30431418 0.33803257 0.61794748 0.97808058]\n",
      " [0.33345003 0.3552716  0.32497385 0.04119527 0.57432319]\n",
      " [0.89986763 0.6907077  0.18966957 0.70824106 0.7702228 ]\n",
      " [0.12880552 0.02985509 0.80146543 0.11075761 0.63974338]\n",
      " [0.56221049 0.21685062 0.4666132  0.4681196  0.54408767]]\n",
      "After normalization:\n",
      "[[0.84107061 0.28944496 0.32500443 0.62020311 1.        ]\n",
      " [0.32017168 0.34318473 0.31123268 0.01195937 0.57419687]\n",
      " [0.91751651 0.69693614 0.16854059 0.71542684 0.78079288]\n",
      " [0.10435328 0.         0.8137414  0.08531993 0.64318909]\n",
      " [0.5614228  0.19720577 0.46060575 0.46219441 0.54231044]]\n"
     ]
    }
   ],
   "source": [
    "x= np.random.random((5,5))\n",
    "print(\"Original Array:\")\n",
    "print(x)\n",
    "max, min = x.max(), x.min()\n",
    "x = (x - min)/(max - min)\n",
    "print(\"After normalization:\")\n",
    "print(x)"
   ]
  },
  {
   "cell_type": "markdown",
   "metadata": {},
   "source": [
    "#### 23. Create a custom dtype that describes a color as four unsigned bytes (RGBA) (★☆☆) \n",
    "(**hint**: np.dtype)"
   ]
  },
  {
   "cell_type": "code",
   "execution_count": 36,
   "metadata": {},
   "outputs": [
    {
     "data": {
      "text/plain": [
       "dtype([('R', '<u8'), ('G', '<i4'), ('B', '<i4'), ('A', '<i4')])"
      ]
     },
     "execution_count": 36,
     "metadata": {},
     "output_type": "execute_result"
    }
   ],
   "source": [
    "np.dtype([('R', np.uint64), ('G', np.int32), ('B', np.int32), ('A', np.int32)])\n"
   ]
  },
  {
   "cell_type": "markdown",
   "metadata": {},
   "source": [
    "#### 24. Multiply a 5x3 matrix by a 3x2 matrix (real matrix product) (★☆☆) \n",
    "(**hint**: np.dot | @)"
   ]
  },
  {
   "cell_type": "code",
   "execution_count": 40,
   "metadata": {},
   "outputs": [
    {
     "name": "stdout",
     "output_type": "stream",
     "text": [
      "X Matrix:\n",
      "[[6.36839843e-01 4.24579692e-01 7.31566293e-01]\n",
      " [6.39493257e-01 3.60565365e-01 3.99703718e-01]\n",
      " [3.03340979e-01 6.68626053e-02 4.86942505e-04]\n",
      " [5.33639945e-01 1.21565168e-01 6.04932459e-01]\n",
      " [6.19717346e-01 1.17917003e-01 8.01788823e-01]]\n",
      "Y matrix:\n",
      "[[0.53002786 0.16190923]\n",
      " [0.86058445 0.44540164]\n",
      " [0.15343475 0.14127774]]\n"
     ]
    },
    {
     "data": {
      "text/plain": [
       "array([[0.81517723, 0.39557277],\n",
       "       [0.71057463, 0.32060551],\n",
       "       [0.2183948 , 0.07896321],\n",
       "       [0.48027879, 0.22601005],\n",
       "       [0.55296727, 0.2661333 ]])"
      ]
     },
     "execution_count": 40,
     "metadata": {},
     "output_type": "execute_result"
    }
   ],
   "source": [
    "x= np.random.random((5,3))\n",
    "print(\"X Matrix:\")\n",
    "print(x)\n",
    "y= np.random.random((3,2))\n",
    "print(\"Y matrix:\")\n",
    "print(y)\n",
    "np.dot(x,y)"
   ]
  },
  {
   "cell_type": "markdown",
   "metadata": {},
   "source": [
    "#### 25. Given a 1D array, negate all elements which are between 3 and 8, in place. (★☆☆) \n",
    "(**hint**: >, <=)"
   ]
  },
  {
   "cell_type": "code",
   "execution_count": 45,
   "metadata": {},
   "outputs": [
    {
     "data": {
      "text/plain": [
       "array([ 0,  1,  2, -3, -4, -5, -6, -7, -8,  9, 10])"
      ]
     },
     "execution_count": 45,
     "metadata": {},
     "output_type": "execute_result"
    }
   ],
   "source": [
    "arr=np.arange(11)\n",
    "condition = np.logical_and(arr > 2, arr <= 8)\n",
    "arr = np.select([~condition, condition], [arr, -arr])\n",
    "arr"
   ]
  },
  {
   "cell_type": "markdown",
   "metadata": {},
   "source": [
    "#### 26. What is the output of the following script? (★☆☆) \n",
    "(**hint**: np.sum)"
   ]
  },
  {
   "cell_type": "markdown",
   "metadata": {},
   "source": [
    "```python\n",
    "# Author: Jake VanderPlas\n",
    "\n",
    "print(sum(range(5),-1))\n",
    "from numpy import *\n",
    "print(sum(range(5),-1))\n",
    "```"
   ]
  },
  {
   "cell_type": "code",
   "execution_count": 47,
   "metadata": {},
   "outputs": [
    {
     "name": "stdout",
     "output_type": "stream",
     "text": [
      "9\n",
      "10\n"
     ]
    }
   ],
   "source": [
    "print(sum(range(5),-1))\n",
    "from numpy import *\n",
    "print(sum(range(5),-1))"
   ]
  },
  {
   "cell_type": "markdown",
   "metadata": {},
   "source": [
    "#### 27. Consider an integer vector Z, which of these expressions are legal? (★☆☆)"
   ]
  },
  {
   "cell_type": "markdown",
   "metadata": {},
   "source": [
    "```python\n",
    "Z**Z\n",
    "2 << Z >> 2\n",
    "Z <- Z\n",
    "1j*Z\n",
    "Z/1/1\n",
    "Z<Z>Z\n",
    "```"
   ]
  },
  {
   "cell_type": "code",
   "execution_count": 58,
   "metadata": {},
   "outputs": [
    {
     "name": "stdout",
     "output_type": "stream",
     "text": [
      "[  1   1   4  27 256]\n",
      "[0 1 2 4 8]\n",
      "[False False False False False]\n",
      "[0.+0.j 0.+1.j 0.+2.j 0.+3.j 0.+4.j]\n",
      "[0. 1. 2. 3. 4.]\n"
     ]
    },
    {
     "ename": "ValueError",
     "evalue": "The truth value of an array with more than one element is ambiguous. Use a.any() or a.all()",
     "output_type": "error",
     "traceback": [
      "\u001b[1;31m---------------------------------------------------------------------------\u001b[0m",
      "\u001b[1;31mValueError\u001b[0m                                Traceback (most recent call last)",
      "Input \u001b[1;32mIn [58]\u001b[0m, in \u001b[0;36m<cell line: 7>\u001b[1;34m()\u001b[0m\n\u001b[0;32m      5\u001b[0m \u001b[38;5;28mprint\u001b[39m(\u001b[38;5;241m1\u001b[39mj\u001b[38;5;241m*\u001b[39mZ)\n\u001b[0;32m      6\u001b[0m \u001b[38;5;28mprint\u001b[39m(Z\u001b[38;5;241m/\u001b[39m\u001b[38;5;241m1\u001b[39m\u001b[38;5;241m/\u001b[39m\u001b[38;5;241m1\u001b[39m)\n\u001b[1;32m----> 7\u001b[0m \u001b[38;5;28mprint\u001b[39m(Z\u001b[38;5;241m<\u001b[39mZ\u001b[38;5;241m>\u001b[39mZ)\n",
      "\u001b[1;31mValueError\u001b[0m: The truth value of an array with more than one element is ambiguous. Use a.any() or a.all()"
     ]
    }
   ],
   "source": [
    "Z=np.arange(5)\n",
    "print(Z**Z)\n",
    "print(2 << Z >> 2)\n",
    "print(Z <- Z)\n",
    "print(1j*Z)\n",
    "print(Z/1/1)\n",
    "print(Z<Z>Z)"
   ]
  },
  {
   "cell_type": "markdown",
   "metadata": {},
   "source": [
    "#### 28. What are the result of the following expressions?"
   ]
  },
  {
   "cell_type": "markdown",
   "metadata": {},
   "source": [
    "```python\n",
    "np.array(0) / np.array(0)\n",
    "np.array(0) // np.array(0)\n",
    "np.array([np.nan]).astype(int).astype(float)\n",
    "```"
   ]
  },
  {
   "cell_type": "code",
   "execution_count": 62,
   "metadata": {},
   "outputs": [
    {
     "name": "stdout",
     "output_type": "stream",
     "text": [
      "nan\n",
      "0\n",
      "[-2.14748365e+09]\n"
     ]
    },
    {
     "name": "stderr",
     "output_type": "stream",
     "text": [
      "C:\\Users\\91971\\AppData\\Local\\Temp\\ipykernel_18140\\3912170336.py:1: RuntimeWarning: invalid value encountered in true_divide\n",
      "  print(np.array(0) / np.array(0))\n",
      "C:\\Users\\91971\\AppData\\Local\\Temp\\ipykernel_18140\\3912170336.py:2: RuntimeWarning: divide by zero encountered in floor_divide\n",
      "  print(np.array(0) // np.array(0))\n"
     ]
    }
   ],
   "source": [
    "print(np.array(0) / np.array(0))\n",
    "print(np.array(0) // np.array(0))\n",
    "print(np.array([np.nan]).astype(int).astype(float))"
   ]
  },
  {
   "cell_type": "markdown",
   "metadata": {},
   "source": [
    "#### 29. How to round away from zero a float array ? (★☆☆) \n",
    "(**hint**: np.uniform, np.copysign, np.ceil, np.abs)"
   ]
  },
  {
   "cell_type": "code",
   "execution_count": 71,
   "metadata": {},
   "outputs": [
    {
     "name": "stdout",
     "output_type": "stream",
     "text": [
      "[[0.37763422 0.98848199 0.70620507]\n",
      " [0.46258794 0.64353681 0.25363386]\n",
      " [0.67771172 0.15565499 0.45143144]]\n",
      "------------------------------\n",
      "[[-0.37763422 -0.98848199 -0.70620507]\n",
      " [-0.46258794 -0.64353681 -0.25363386]\n",
      " [-0.67771172 -0.15565499 -0.45143144]]\n",
      "------------------------------\n",
      "[[1. 1. 1.]\n",
      " [1. 1. 1.]\n",
      " [1. 1. 1.]]\n",
      "------------------------------\n",
      "[[0.37763422 0.98848199 0.70620507]\n",
      " [0.46258794 0.64353681 0.25363386]\n",
      " [0.67771172 0.15565499 0.45143144]]\n"
     ]
    }
   ],
   "source": [
    "a=np.random.rand(3,3)\n",
    "print(a)\n",
    "print(\"------------------------------\")\n",
    "print(np.copysign(a,-1))\n",
    "print(\"------------------------------\")\n",
    "print(np.ceil(a))\n",
    "print(\"------------------------------\")\n",
    "print(np.absolute(a))"
   ]
  },
  {
   "cell_type": "markdown",
   "metadata": {},
   "source": [
    "#### 30. How to find common values between two arrays? (★☆☆) \n",
    "(**hint**: np.intersect1d)"
   ]
  },
  {
   "cell_type": "code",
   "execution_count": 76,
   "metadata": {},
   "outputs": [
    {
     "name": "stdout",
     "output_type": "stream",
     "text": [
      "------------------------------\n",
      "[ 1  2  3  4  5  6  7  8  9 10 11 12 13 14 15 16 17 18 19 20 21 22 23 24\n",
      " 25 26 27 28 29 30 31 32 33 34 35 36 37 38 39 40 41 42 43 44 45 46 47 48]\n",
      "------------------------------\n",
      "[11 12 13 14 15 16 17 18 19 20 21 22 23 24 25 26 27 28]\n",
      "------------------------------\n",
      "[11 12 13 14 15 16 17 18 19 20 21 22 23 24 25 26 27 28]\n"
     ]
    }
   ],
   "source": [
    "ar1=np.arange(1,49)\n",
    "ar2=np.arange(11,29)\n",
    "\n",
    "print(\"------------------------------\")\n",
    "print(ar1)\n",
    "print(\"------------------------------\")\n",
    "print(ar2)\n",
    "print(\"------------------------------\")\n",
    "print(np.intersect1d(ar1, ar2))"
   ]
  },
  {
   "cell_type": "markdown",
   "metadata": {},
   "source": [
    "#### 31. How to ignore all numpy warnings (not recommended)? (★☆☆) \n",
    "(**hint**: np.seterr, np.errstate)"
   ]
  },
  {
   "cell_type": "code",
   "execution_count": 78,
   "metadata": {},
   "outputs": [
    {
     "data": {
      "text/plain": [
       "{'divide': 'ignore', 'over': 'ignore', 'under': 'ignore', 'invalid': 'ignore'}"
      ]
     },
     "execution_count": 78,
     "metadata": {},
     "output_type": "execute_result"
    }
   ],
   "source": [
    "np.seterr(all='ignore')"
   ]
  },
  {
   "cell_type": "code",
   "execution_count": 79,
   "metadata": {},
   "outputs": [
    {
     "data": {
      "text/plain": [
       "<numpy.errstate at 0x1eed3fa0fd0>"
      ]
     },
     "execution_count": 79,
     "metadata": {},
     "output_type": "execute_result"
    }
   ],
   "source": [
    "np.errstate(divide='ignore')"
   ]
  },
  {
   "cell_type": "markdown",
   "metadata": {},
   "source": [
    "#### 32. Is the following expressions true? (★☆☆) \n",
    "(**hint**: imaginary number)"
   ]
  },
  {
   "cell_type": "markdown",
   "metadata": {},
   "source": [
    "```python\n",
    "np.sqrt(-1) == np.emath.sqrt(-1)\n",
    "```"
   ]
  },
  {
   "cell_type": "code",
   "execution_count": 80,
   "metadata": {},
   "outputs": [
    {
     "data": {
      "text/plain": [
       "False"
      ]
     },
     "execution_count": 80,
     "metadata": {},
     "output_type": "execute_result"
    }
   ],
   "source": [
    "np.sqrt(-1) == np.emath.sqrt(-1)"
   ]
  },
  {
   "cell_type": "markdown",
   "metadata": {},
   "source": [
    "#### 33. How to get the dates of yesterday, today and tomorrow? (★☆☆) \n",
    "(**hint**: np.datetime64, np.timedelta64)"
   ]
  },
  {
   "cell_type": "code",
   "execution_count": 81,
   "metadata": {},
   "outputs": [
    {
     "name": "stdout",
     "output_type": "stream",
     "text": [
      "2022-05-29\n",
      "2022-05-28\n",
      "2022-05-30\n"
     ]
    }
   ],
   "source": [
    "today = np.datetime64('today', 'D')\n",
    "yesterday = np.datetime64('today', 'D') - np.timedelta64(1, 'D')\n",
    "tomorrow =np.datetime64('today', 'D') + np.timedelta64(1, 'D')\n",
    "\n",
    "print(today)\n",
    "print(yesterday)\n",
    "print(tomorrow)"
   ]
  },
  {
   "cell_type": "markdown",
   "metadata": {},
   "source": [
    "#### 34. How to get all the dates corresponding to the month of July 2016? (★★☆) \n",
    "(**hint**: np.arange(dtype=datetime64\\['D'\\]))"
   ]
  },
  {
   "cell_type": "code",
   "execution_count": 84,
   "metadata": {},
   "outputs": [
    {
     "name": "stdout",
     "output_type": "stream",
     "text": [
      "['2016-07-01' '2016-07-02' '2016-07-03' '2016-07-04' '2016-07-05'\n",
      " '2016-07-06' '2016-07-07' '2016-07-08' '2016-07-09' '2016-07-10'\n",
      " '2016-07-11' '2016-07-12' '2016-07-13' '2016-07-14' '2016-07-15'\n",
      " '2016-07-16' '2016-07-17' '2016-07-18' '2016-07-19' '2016-07-20'\n",
      " '2016-07-21' '2016-07-22' '2016-07-23' '2016-07-24' '2016-07-25'\n",
      " '2016-07-26' '2016-07-27' '2016-07-28' '2016-07-29' '2016-07-30'\n",
      " '2016-07-31']\n"
     ]
    }
   ],
   "source": [
    "print(np.arange('2016-07', '2016-08',dtype='datetime64[D]'))"
   ]
  },
  {
   "cell_type": "markdown",
   "metadata": {},
   "source": [
    "#### 35. How to compute ((A+B)\\*(-A/2)) in place (without copy)? (★★☆) \n",
    "(**hint**: np.add(out=), np.negative(out=), np.multiply(out=), np.divide(out=))"
   ]
  },
  {
   "cell_type": "code",
   "execution_count": 86,
   "metadata": {},
   "outputs": [
    {
     "name": "stdout",
     "output_type": "stream",
     "text": [
      "-5.0\n"
     ]
    }
   ],
   "source": [
    "a=2\n",
    "b=3\n",
    "print(np.multiply(np.add(a,b),(np.divide(-a,2))))"
   ]
  },
  {
   "cell_type": "markdown",
   "metadata": {},
   "source": [
    "#### 36. Extract the integer part of a random array using 5 different methods (★★☆) \n",
    "(**hint**: %, np.floor, np.ceil, astype, np.trunc)"
   ]
  },
  {
   "cell_type": "code",
   "execution_count": 92,
   "metadata": {},
   "outputs": [
    {
     "name": "stdout",
     "output_type": "stream",
     "text": [
      "------------------------------\n",
      "[-2. -2. -1.  0.  1.  1.  2.]\n",
      "------------------------------\n",
      "[-1. -1. -0.  1.  2.  2.  2.]\n",
      "------------------------------\n",
      "[-1. -1. -0.  0.  1.  1.  2.]\n"
     ]
    }
   ],
   "source": [
    "a = np.array([-1.7, -1.5, -0.2, 0.2, 1.5, 1.7, 2.0])\n",
    "print(\"------------------------------\")\n",
    "print(np.floor(a))\n",
    "print(\"------------------------------\")\n",
    "print(np.ceil(a))\n",
    "print(\"------------------------------\")\n",
    "print(np.trunc(a))"
   ]
  },
  {
   "cell_type": "markdown",
   "metadata": {},
   "source": [
    "#### 37. Create a 5x5 matrix with row values ranging from 0 to 4 (★★☆) \n",
    "(**hint**: np.arange)"
   ]
  },
  {
   "cell_type": "code",
   "execution_count": 96,
   "metadata": {},
   "outputs": [
    {
     "name": "stdout",
     "output_type": "stream",
     "text": [
      "[[1 0 3 3 2]\n",
      " [3 3 1 0 0]\n",
      " [1 1 3 1 2]\n",
      " [0 0 0 2 3]\n",
      " [1 0 3 0 3]]\n"
     ]
    }
   ],
   "source": [
    "arr=np.random.randint(0,4, size=(5, 5))\n",
    "print(arr)"
   ]
  },
  {
   "cell_type": "markdown",
   "metadata": {},
   "source": [
    "#### 38. Consider a generator function that generates 10 integers and use it to build an array (★☆☆) \n",
    "(**hint**: np.fromiter)"
   ]
  },
  {
   "cell_type": "code",
   "execution_count": 99,
   "metadata": {},
   "outputs": [
    {
     "data": {
      "text/plain": [
       "array([ 0.,  1.,  2.,  3.,  4.,  5.,  6.,  7.,  8.,  9., 10.])"
      ]
     },
     "execution_count": 99,
     "metadata": {},
     "output_type": "execute_result"
    }
   ],
   "source": [
    "iterable = (x for x in range(11))\n",
    "np.fromiter(iterable, float)"
   ]
  },
  {
   "cell_type": "markdown",
   "metadata": {},
   "source": [
    "#### 39. Create a vector of size 10 with values ranging from 0 to 1, both excluded (★★☆) \n",
    "(**hint**: np.linspace)"
   ]
  },
  {
   "cell_type": "code",
   "execution_count": 100,
   "metadata": {},
   "outputs": [
    {
     "data": {
      "text/plain": [
       "array([0.        , 0.11111111, 0.22222222, 0.33333333, 0.44444444,\n",
       "       0.55555556, 0.66666667, 0.77777778, 0.88888889, 1.        ])"
      ]
     },
     "execution_count": 100,
     "metadata": {},
     "output_type": "execute_result"
    }
   ],
   "source": [
    "np.linspace(0, 1, num=10)"
   ]
  },
  {
   "cell_type": "markdown",
   "metadata": {},
   "source": [
    "#### 40. Create a random vector of size 10 and sort it (★★☆) \n",
    "(**hint**: sort)"
   ]
  },
  {
   "cell_type": "code",
   "execution_count": 104,
   "metadata": {},
   "outputs": [
    {
     "name": "stdout",
     "output_type": "stream",
     "text": [
      "[[0.22230605 0.94839322]\n",
      " [0.77982475 0.34231398]\n",
      " [0.55705261 0.88699763]\n",
      " [0.96773509 0.5072471 ]\n",
      " [0.40584384 0.9442817 ]]\n"
     ]
    },
    {
     "data": {
      "text/plain": [
       "array([[0.22230605, 0.94839322],\n",
       "       [0.34231398, 0.77982475],\n",
       "       [0.55705261, 0.88699763],\n",
       "       [0.5072471 , 0.96773509],\n",
       "       [0.40584384, 0.9442817 ]])"
      ]
     },
     "execution_count": 104,
     "metadata": {},
     "output_type": "execute_result"
    }
   ],
   "source": [
    "arr=np.random.rand(5,2)\n",
    "print(arr)\n",
    "np.sort(arr)"
   ]
  },
  {
   "cell_type": "markdown",
   "metadata": {},
   "source": [
    "#### 41. How to sum a small array faster than np.sum? (★★☆) \n",
    "(**hint**: np.add.reduce)"
   ]
  },
  {
   "cell_type": "code",
   "execution_count": 105,
   "metadata": {},
   "outputs": [
    {
     "name": "stdout",
     "output_type": "stream",
     "text": [
      "[[[0 1]\n",
      "  [2 3]]\n",
      "\n",
      " [[4 5]\n",
      "  [6 7]]]\n"
     ]
    },
    {
     "data": {
      "text/plain": [
       "array([[ 4,  6],\n",
       "       [ 8, 10]])"
      ]
     },
     "execution_count": 105,
     "metadata": {},
     "output_type": "execute_result"
    }
   ],
   "source": [
    "X = np.arange(8).reshape((2,2,2))\n",
    "print(X)\n",
    "np.add.reduce(X, 0)\n"
   ]
  },
  {
   "cell_type": "markdown",
   "metadata": {},
   "source": [
    "#### 42. Consider two random array A and B, check if they are equal (★★☆) \n",
    "(**hint**: np.allclose, np.array\\_equal)"
   ]
  },
  {
   "cell_type": "code",
   "execution_count": 114,
   "metadata": {},
   "outputs": [
    {
     "name": "stdout",
     "output_type": "stream",
     "text": [
      "[[0.63199814 0.2038921 ]\n",
      " [0.34434835 0.59410575]\n",
      " [0.48919842 0.32834773]\n",
      " [0.28140149 0.52620753]\n",
      " [0.17565758 0.0624742 ]]\n",
      "[[0.06764329 0.25661269]\n",
      " [0.34165394 0.4924096 ]\n",
      " [0.07890444 0.72479888]\n",
      " [0.16521449 0.91273541]\n",
      " [0.90279688 0.96057899]]\n",
      "------------------------------\n",
      "False\n",
      "------------------------------\n",
      "False\n"
     ]
    }
   ],
   "source": [
    "x=np.random.rand(5,2)\n",
    "print(x)\n",
    "y=np.random.rand(5,2)\n",
    "print(y)\n",
    "print(\"------------------------------\")\n",
    "print(np.allclose(x,y))\n",
    "print(\"------------------------------\")\n",
    "print(np.array_equal(x,y))"
   ]
  },
  {
   "cell_type": "markdown",
   "metadata": {},
   "source": [
    "#### 43. Make an array immutable (read-only) (★★☆) \n",
    "(**hint**: flags.writeable)"
   ]
  },
  {
   "cell_type": "code",
   "execution_count": 115,
   "metadata": {},
   "outputs": [
    {
     "name": "stdout",
     "output_type": "stream",
     "text": [
      "Test the array is read-only or not:\n",
      "Try to change the value of the first element:\n"
     ]
    },
    {
     "ename": "ValueError",
     "evalue": "assignment destination is read-only",
     "output_type": "error",
     "traceback": [
      "\u001b[1;31m---------------------------------------------------------------------------\u001b[0m",
      "\u001b[1;31mValueError\u001b[0m                                Traceback (most recent call last)",
      "Input \u001b[1;32mIn [115]\u001b[0m, in \u001b[0;36m<cell line: 5>\u001b[1;34m()\u001b[0m\n\u001b[0;32m      3\u001b[0m \u001b[38;5;28mprint\u001b[39m(\u001b[38;5;124m\"\u001b[39m\u001b[38;5;124mTest the array is read-only or not:\u001b[39m\u001b[38;5;124m\"\u001b[39m)\n\u001b[0;32m      4\u001b[0m \u001b[38;5;28mprint\u001b[39m(\u001b[38;5;124m\"\u001b[39m\u001b[38;5;124mTry to change the value of the first element:\u001b[39m\u001b[38;5;124m\"\u001b[39m)\n\u001b[1;32m----> 5\u001b[0m x[\u001b[38;5;241m0\u001b[39m] \u001b[38;5;241m=\u001b[39m \u001b[38;5;241m1\u001b[39m\n",
      "\u001b[1;31mValueError\u001b[0m: assignment destination is read-only"
     ]
    }
   ],
   "source": [
    "x = np.zeros(10)\n",
    "x.flags.writeable = False\n",
    "print(\"Test the array is read-only or not:\")\n",
    "print(\"Try to change the value of the first element:\")\n",
    "x[0] = 1"
   ]
  },
  {
   "cell_type": "markdown",
   "metadata": {},
   "source": [
    "#### 44. Consider a random 10x2 matrix representing cartesian coordinates, convert them to polar coordinates (★★☆) \n",
    "(**hint**: np.sqrt, np.arctan2)"
   ]
  },
  {
   "cell_type": "code",
   "execution_count": 116,
   "metadata": {},
   "outputs": [
    {
     "name": "stdout",
     "output_type": "stream",
     "text": [
      "[[0.50562971 0.45735296]\n",
      " [0.4798036  0.95674108]\n",
      " [0.01874709 0.54852569]\n",
      " [0.53755427 0.82884364]\n",
      " [0.54445782 0.84146666]\n",
      " [0.81478441 0.41945899]\n",
      " [0.1175865  0.58766695]\n",
      " [0.99014114 0.08411617]\n",
      " [0.22093177 0.08259808]\n",
      " [0.70498144 0.52562756]]\n"
     ]
    }
   ],
   "source": [
    "x=np.random.rand(10,2)\n",
    "print(x)"
   ]
  },
  {
   "cell_type": "markdown",
   "metadata": {},
   "source": [
    "#### 45. Create random vector of size 10 and replace the maximum value by 0 (★★☆) \n",
    "(**hint**: argmax)"
   ]
  },
  {
   "cell_type": "code",
   "execution_count": 122,
   "metadata": {},
   "outputs": [
    {
     "name": "stdout",
     "output_type": "stream",
     "text": [
      "[[0.84899749 0.40467188]\n",
      " [0.72148017 0.87943191]\n",
      " [0.30221675 0.60877791]\n",
      " [0.87383457 0.87954016]\n",
      " [0.3195325  0.60131567]\n",
      " [0.48801284 0.60163862]\n",
      " [0.91656978 0.71576891]\n",
      " [0.14247271 0.31488079]\n",
      " [0.65368178 0.22231398]\n",
      " [0.42097876 0.22894531]]\n",
      "\n",
      "Max element :  12\n",
      "[[0.84899749 0.40467188]\n",
      " [0.72148017 0.87943191]\n",
      " [0.30221675 0.60877791]\n",
      " [0.         0.        ]\n",
      " [0.3195325  0.60131567]\n",
      " [0.48801284 0.60163862]\n",
      " [0.         0.        ]\n",
      " [0.14247271 0.31488079]\n",
      " [0.65368178 0.22231398]\n",
      " [0.42097876 0.22894531]]\n"
     ]
    }
   ],
   "source": [
    "x=np.random.rand(10,2)\n",
    "print(x)\n",
    "print(\"\\nMax element : \", np.argmax(x))\n",
    "x[np.argmax(x, axis=0)]=0\n",
    "print(x)"
   ]
  },
  {
   "cell_type": "markdown",
   "metadata": {},
   "source": [
    "#### 46. Create a structured array with `x` and `y` coordinates covering the \\[0,1\\]x\\[0,1\\] area (★★☆) \n",
    "(**hint**: np.meshgrid)"
   ]
  },
  {
   "cell_type": "code",
   "execution_count": 123,
   "metadata": {},
   "outputs": [
    {
     "data": {
      "text/plain": [
       "array([[0. , 0.5, 1. ],\n",
       "       [0. , 0.5, 1. ]])"
      ]
     },
     "execution_count": 123,
     "metadata": {},
     "output_type": "execute_result"
    }
   ],
   "source": [
    "nx, ny = (3, 2)\n",
    "x = np.linspace(0, 1, nx)\n",
    "y = np.linspace(0, 1, ny)\n",
    "xv, yv = np.meshgrid(x, y)\n",
    "xv"
   ]
  },
  {
   "cell_type": "markdown",
   "metadata": {},
   "source": [
    "####  47. Given two arrays, X and Y, construct the Cauchy matrix C (Cij =1/(xi - yj)) \n",
    "(**hint**: np.subtract.outer)"
   ]
  },
  {
   "cell_type": "code",
   "execution_count": 124,
   "metadata": {},
   "outputs": [
    {
     "data": {
      "text/plain": [
       "array([[-3, -4, -5],\n",
       "       [-2, -3, -4],\n",
       "       [-1, -2, -3]])"
      ]
     },
     "execution_count": 124,
     "metadata": {},
     "output_type": "execute_result"
    }
   ],
   "source": [
    "np.subtract.outer([1, 2, 3], [4, 5, 6])"
   ]
  },
  {
   "cell_type": "markdown",
   "metadata": {},
   "source": [
    "#### 48. Print the minimum and maximum representable value for each numpy scalar type (★★☆) \n",
    "(**hint**: np.iinfo, np.finfo, eps)"
   ]
  },
  {
   "cell_type": "code",
   "execution_count": 126,
   "metadata": {},
   "outputs": [
    {
     "name": "stdout",
     "output_type": "stream",
     "text": [
      "-32768\n",
      "32767\n"
     ]
    },
    {
     "ename": "ValueError",
     "evalue": "data type <class 'numpy.int16'> not inexact",
     "output_type": "error",
     "traceback": [
      "\u001b[1;31m---------------------------------------------------------------------------\u001b[0m",
      "\u001b[1;31mValueError\u001b[0m                                Traceback (most recent call last)",
      "Input \u001b[1;32mIn [126]\u001b[0m, in \u001b[0;36m<cell line: 5>\u001b[1;34m()\u001b[0m\n\u001b[0;32m      2\u001b[0m \u001b[38;5;28mprint\u001b[39m(ii16\u001b[38;5;241m.\u001b[39mmin)\n\u001b[0;32m      3\u001b[0m \u001b[38;5;28mprint\u001b[39m(ii16\u001b[38;5;241m.\u001b[39mmax) \n\u001b[1;32m----> 5\u001b[0m ii16 \u001b[38;5;241m=\u001b[39m \u001b[43mnp\u001b[49m\u001b[38;5;241;43m.\u001b[39;49m\u001b[43mfinfo\u001b[49m\u001b[43m(\u001b[49m\u001b[43mnp\u001b[49m\u001b[38;5;241;43m.\u001b[39;49m\u001b[43mint16\u001b[49m\u001b[43m)\u001b[49m\n\u001b[0;32m      6\u001b[0m \u001b[38;5;28mprint\u001b[39m(ii16\u001b[38;5;241m.\u001b[39mmin)\n\u001b[0;32m      7\u001b[0m \u001b[38;5;28mprint\u001b[39m(ii16\u001b[38;5;241m.\u001b[39mmax)\n",
      "File \u001b[1;32m~\\AppData\\Local\\Programs\\Python\\Python310\\lib\\site-packages\\numpy\\core\\getlimits.py:473\u001b[0m, in \u001b[0;36mfinfo.__new__\u001b[1;34m(cls, dtype)\u001b[0m\n\u001b[0;32m    471\u001b[0m     dtype \u001b[38;5;241m=\u001b[39m newdtype\n\u001b[0;32m    472\u001b[0m \u001b[38;5;28;01mif\u001b[39;00m \u001b[38;5;129;01mnot\u001b[39;00m \u001b[38;5;28missubclass\u001b[39m(dtype, numeric\u001b[38;5;241m.\u001b[39minexact):\n\u001b[1;32m--> 473\u001b[0m     \u001b[38;5;28;01mraise\u001b[39;00m \u001b[38;5;167;01mValueError\u001b[39;00m(\u001b[38;5;124m\"\u001b[39m\u001b[38;5;124mdata type \u001b[39m\u001b[38;5;132;01m%r\u001b[39;00m\u001b[38;5;124m not inexact\u001b[39m\u001b[38;5;124m\"\u001b[39m \u001b[38;5;241m%\u001b[39m (dtype))\n\u001b[0;32m    474\u001b[0m obj \u001b[38;5;241m=\u001b[39m \u001b[38;5;28mcls\u001b[39m\u001b[38;5;241m.\u001b[39m_finfo_cache\u001b[38;5;241m.\u001b[39mget(dtype, \u001b[38;5;28;01mNone\u001b[39;00m)\n\u001b[0;32m    475\u001b[0m \u001b[38;5;28;01mif\u001b[39;00m obj \u001b[38;5;129;01mis\u001b[39;00m \u001b[38;5;129;01mnot\u001b[39;00m \u001b[38;5;28;01mNone\u001b[39;00m:\n",
      "\u001b[1;31mValueError\u001b[0m: data type <class 'numpy.int16'> not inexact"
     ]
    }
   ],
   "source": [
    "ii16 = np.iinfo(np.int16)\n",
    "print(ii16.min)\n",
    "print(ii16.max) \n",
    "\n"
   ]
  },
  {
   "cell_type": "markdown",
   "metadata": {},
   "source": [
    "#### 49. How to print all the values of an array? (★★☆) \n",
    "(**hint**: np.set\\_printoptions)"
   ]
  },
  {
   "cell_type": "code",
   "execution_count": 128,
   "metadata": {},
   "outputs": [
    {
     "data": {
      "text/plain": [
       "array([1.1235])"
      ]
     },
     "execution_count": 128,
     "metadata": {},
     "output_type": "execute_result"
    }
   ],
   "source": [
    "np.set_printoptions(precision=4)\n",
    "np.array([1.123456789])"
   ]
  },
  {
   "cell_type": "markdown",
   "metadata": {},
   "source": [
    "#### 50. How to find the closest value (to a given scalar) in a vector? (★★☆) \n",
    "(**hint**: argmin)"
   ]
  },
  {
   "cell_type": "code",
   "execution_count": 131,
   "metadata": {},
   "outputs": [
    {
     "name": "stdout",
     "output_type": "stream",
     "text": [
      "[[[0.1155 0.6688 0.6636 0.1905 0.2032]\n",
      "  [0.8475 0.1467 0.7209 0.4689 0.2411]]\n",
      "\n",
      " [[0.6752 0.1725 0.0038 0.0845 0.0636]\n",
      "  [0.943  0.275  0.198  0.8605 0.0807]]\n",
      "\n",
      " [[0.4091 0.7165 0.7766 0.7977 0.8889]\n",
      "  [0.6698 0.1772 0.0014 0.3224 0.8515]]\n",
      "\n",
      " [[0.4672 0.5635 0.4091 0.5679 0.1427]\n",
      "  [0.5733 0.8069 0.206  0.0637 0.1503]]\n",
      "\n",
      " [[0.0475 0.2529 0.304  0.8442 0.6492]\n",
      "  [0.1262 0.675  0.8466 0.0675 0.0733]]\n",
      "\n",
      " [[0.9106 0.8857 0.433  0.0691 0.9824]\n",
      "  [0.0118 0.2594 0.7455 0.8689 0.2669]]\n",
      "\n",
      " [[0.071  0.1441 0.4471 0.8434 0.4733]\n",
      "  [0.4854 0.6189 0.4001 0.5814 0.8117]]\n",
      "\n",
      " [[0.603  0.1551 0.7322 0.9594 0.4877]\n",
      "  [0.76   0.3224 0.1918 0.4438 0.0898]]\n",
      "\n",
      " [[0.3309 0.9475 0.7567 0.0474 0.4763]\n",
      "  [0.0513 0.6556 0.5144 0.7929 0.5971]]\n",
      "\n",
      " [[0.383  0.9179 0.8867 0.0582 0.6192]\n",
      "  [0.372  0.4866 0.0068 0.4651 0.6062]]]\n",
      "\n",
      "Min closet element :  27\n"
     ]
    }
   ],
   "source": [
    "x=np.random.rand(10,2,5)\n",
    "print(x)\n",
    "print(\"\\nMin closet element : \", np.argmin(x))"
   ]
  },
  {
   "cell_type": "markdown",
   "metadata": {},
   "source": [
    "#### 51. Create a structured array representing a position (x,y) and a color (r,g,b) (★★☆) \n",
    "(**hint**: dtype)"
   ]
  },
  {
   "cell_type": "code",
   "execution_count": null,
   "metadata": {},
   "outputs": [],
   "source": []
  },
  {
   "cell_type": "markdown",
   "metadata": {},
   "source": [
    "#### 52. Consider a random vector with shape (100,2) representing coordinates, find point by point distances (★★☆) \n",
    "(**hint**: np.atleast\\_2d, T, np.sqrt)"
   ]
  },
  {
   "cell_type": "code",
   "execution_count": 132,
   "metadata": {},
   "outputs": [
    {
     "data": {
      "text/plain": [
       "array([[8.9393e-01, 3.1711e-01],\n",
       "       [3.6550e-01, 6.4999e-01],\n",
       "       [9.1408e-01, 6.5449e-01],\n",
       "       [1.7912e-01, 1.4952e-01],\n",
       "       [1.2549e-01, 1.5902e-01],\n",
       "       [3.1987e-01, 1.6661e-01],\n",
       "       [2.6806e-01, 3.6641e-01],\n",
       "       [8.5012e-01, 3.0077e-01],\n",
       "       [4.6601e-01, 2.3482e-01],\n",
       "       [5.4272e-01, 6.5583e-01],\n",
       "       [4.6096e-01, 8.4444e-01],\n",
       "       [3.5275e-01, 8.9612e-01],\n",
       "       [5.6435e-01, 1.9586e-01],\n",
       "       [6.0372e-01, 5.3924e-01],\n",
       "       [7.0011e-01, 5.2219e-01],\n",
       "       [7.6651e-01, 8.9859e-01],\n",
       "       [9.1269e-01, 9.6116e-01],\n",
       "       [2.8470e-01, 3.7475e-01],\n",
       "       [5.2307e-01, 7.1271e-01],\n",
       "       [7.2461e-01, 4.1107e-01],\n",
       "       [6.0096e-01, 4.8050e-01],\n",
       "       [7.1438e-01, 1.5970e-01],\n",
       "       [7.4379e-01, 7.9178e-01],\n",
       "       [3.9934e-01, 6.5407e-01],\n",
       "       [7.8023e-01, 8.1683e-01],\n",
       "       [5.7953e-01, 6.8990e-01],\n",
       "       [4.7848e-01, 1.0704e-01],\n",
       "       [7.3587e-01, 8.7934e-01],\n",
       "       [9.0490e-01, 6.2614e-02],\n",
       "       [2.6333e-01, 1.2320e-01],\n",
       "       [3.7400e-01, 7.2370e-02],\n",
       "       [2.7097e-01, 3.3112e-01],\n",
       "       [1.7632e-01, 3.1884e-01],\n",
       "       [5.5862e-01, 8.9496e-01],\n",
       "       [5.8298e-01, 4.4332e-01],\n",
       "       [7.7447e-01, 2.3344e-01],\n",
       "       [1.6286e-01, 6.5921e-01],\n",
       "       [3.1108e-01, 4.4486e-01],\n",
       "       [5.4487e-01, 7.2953e-01],\n",
       "       [1.5141e-01, 8.3420e-01],\n",
       "       [2.3286e-01, 9.5854e-01],\n",
       "       [2.1829e-01, 6.1246e-01],\n",
       "       [1.7020e-01, 7.0231e-01],\n",
       "       [5.6117e-01, 4.7734e-01],\n",
       "       [1.1776e-01, 4.8599e-02],\n",
       "       [9.2416e-02, 3.6471e-01],\n",
       "       [5.1824e-01, 1.4625e-01],\n",
       "       [1.9516e-01, 9.8250e-02],\n",
       "       [4.9289e-01, 3.1747e-02],\n",
       "       [6.9586e-01, 9.8651e-01],\n",
       "       [7.5129e-01, 9.3888e-01],\n",
       "       [2.2326e-01, 4.8448e-01],\n",
       "       [4.6100e-01, 6.0695e-01],\n",
       "       [1.0057e-01, 9.4562e-01],\n",
       "       [6.3349e-01, 7.3992e-01],\n",
       "       [1.3215e-01, 7.2923e-02],\n",
       "       [4.7278e-02, 3.9150e-01],\n",
       "       [7.8596e-01, 2.8251e-01],\n",
       "       [5.4280e-01, 6.0524e-01],\n",
       "       [7.7642e-01, 9.4015e-01],\n",
       "       [7.8135e-01, 3.8846e-04],\n",
       "       [4.7796e-01, 6.5485e-01],\n",
       "       [5.5264e-01, 4.0425e-01],\n",
       "       [5.8601e-01, 7.8568e-01],\n",
       "       [4.7647e-02, 1.0001e-01],\n",
       "       [7.1510e-01, 9.9473e-01],\n",
       "       [6.0422e-03, 6.2876e-01],\n",
       "       [3.4060e-01, 5.4365e-01],\n",
       "       [4.1344e-01, 8.5723e-02],\n",
       "       [1.4887e-01, 1.5363e-01],\n",
       "       [8.4003e-01, 4.3454e-01],\n",
       "       [5.8840e-02, 7.0122e-01],\n",
       "       [9.7861e-01, 4.8411e-01],\n",
       "       [4.9922e-01, 4.0126e-01],\n",
       "       [2.1072e-01, 3.8812e-01],\n",
       "       [9.3727e-01, 5.2634e-01],\n",
       "       [3.8949e-01, 5.3573e-01],\n",
       "       [6.6980e-01, 4.2006e-01],\n",
       "       [1.6021e-01, 4.9354e-01],\n",
       "       [8.3909e-01, 9.2481e-01],\n",
       "       [3.1869e-01, 4.3527e-01],\n",
       "       [9.5864e-02, 4.9772e-01],\n",
       "       [5.2379e-01, 4.4348e-01],\n",
       "       [2.3059e-01, 1.1009e-01],\n",
       "       [6.1707e-01, 6.1224e-01],\n",
       "       [5.5362e-01, 4.4450e-01],\n",
       "       [5.7255e-01, 3.2324e-01],\n",
       "       [9.5189e-01, 4.9538e-01],\n",
       "       [1.6930e-01, 6.7175e-01],\n",
       "       [5.8969e-01, 3.1856e-01],\n",
       "       [7.5045e-01, 8.0089e-01],\n",
       "       [7.3957e-01, 2.4987e-01],\n",
       "       [1.3236e-01, 3.8115e-01],\n",
       "       [2.4991e-02, 7.5360e-01],\n",
       "       [9.0027e-01, 1.0149e-02],\n",
       "       [1.5107e-01, 9.4239e-01],\n",
       "       [1.7877e-01, 6.2861e-01],\n",
       "       [6.6586e-01, 6.8227e-01],\n",
       "       [8.5728e-01, 5.8725e-01],\n",
       "       [8.6942e-01, 5.7548e-01]])"
      ]
     },
     "execution_count": 132,
     "metadata": {},
     "output_type": "execute_result"
    }
   ],
   "source": [
    "x =np.random.rand(100,2)\n",
    "np.atleast_2d(x)"
   ]
  },
  {
   "cell_type": "markdown",
   "metadata": {},
   "source": [
    "#### 53. How to convert a float (32 bits) array into an integer (32 bits) in place? \n",
    "(**hint**: astype(copy=False))"
   ]
  },
  {
   "cell_type": "code",
   "execution_count": null,
   "metadata": {},
   "outputs": [],
   "source": [
    "aray = np.arange(10, dtype=np.int32)\n",
    "aray = aray.astype(np.float32, copy=False)\n",
    "print(aray)"
   ]
  },
  {
   "cell_type": "markdown",
   "metadata": {},
   "source": [
    "#### 54. How to read the following file? (★★☆) \n",
    "(**hint**: np.genfromtxt)"
   ]
  },
  {
   "cell_type": "markdown",
   "metadata": {},
   "source": [
    "```\n",
    "1, 2, 3, 4, 5\n",
    "6,  ,  , 7, 8\n",
    " ,  , 9,10,11\n",
    "```"
   ]
  },
  {
   "cell_type": "code",
   "execution_count": 3,
   "metadata": {},
   "outputs": [
    {
     "name": "stdout",
     "output_type": "stream",
     "text": [
      "[[ 1  2  3  4  5]\n",
      " [ 6 -1 -1  7  8]\n",
      " [-1 -1  9 10 11]]\n"
     ]
    },
    {
     "name": "stderr",
     "output_type": "stream",
     "text": [
      "C:\\Users\\91971\\AppData\\Local\\Temp\\ipykernel_12776\\1258525457.py:5: DeprecationWarning: `np.int` is a deprecated alias for the builtin `int`. To silence this warning, use `int` by itself. Doing this will not modify any behavior and is safe. When replacing `np.int`, you may wish to use e.g. `np.int64` or `np.int32` to specify the precision. If you wish to review your current use, check the release note link for additional information.\n",
      "Deprecated in NumPy 1.20; for more details and guidance: https://numpy.org/devdocs/release/1.20.0-notes.html#deprecations\n",
      "  out = np.genfromtxt(string, delimiter=\",\", dtype=np.int)\n"
     ]
    }
   ],
   "source": [
    "from io import StringIO\n",
    "string = StringIO(\"\"\"1, 2, 3, 4, 5\\n\n",
    "                6,  ,  , 7, 8\\n\n",
    "                 ,  , 9,10,11\\n\"\"\")\n",
    "out = np.genfromtxt(string, delimiter=\",\", dtype=np.int)\n",
    "print(out)"
   ]
  },
  {
   "cell_type": "markdown",
   "metadata": {},
   "source": [
    "#### 55. What is the equivalent of enumerate for numpy arrays? (★★☆) \n",
    "(**hint**: np.ndenumerate, np.ndindex)"
   ]
  },
  {
   "cell_type": "code",
   "execution_count": 136,
   "metadata": {},
   "outputs": [
    {
     "name": "stdout",
     "output_type": "stream",
     "text": [
      "(0, 0) 1\n",
      "(0, 1) 2\n",
      "(1, 0) 3\n",
      "(1, 1) 4\n"
     ]
    }
   ],
   "source": [
    "a = np.array([[1, 2], [3, 4]])\n",
    "for index, x in np.ndenumerate(a):\n",
    "    print(index, x)"
   ]
  },
  {
   "cell_type": "markdown",
   "metadata": {},
   "source": [
    "#### 56. Generate a generic 2D Gaussian-like array (★★☆) \n",
    "(**hint**: np.meshgrid, np.exp)"
   ]
  },
  {
   "cell_type": "code",
   "execution_count": 138,
   "metadata": {},
   "outputs": [
    {
     "name": "stdout",
     "output_type": "stream",
     "text": [
      "[[0.  0.5 1. ]\n",
      " [0.  0.5 1. ]]\n",
      "[[0. 0. 0.]\n",
      " [1. 1. 1.]]\n"
     ]
    }
   ],
   "source": [
    "nx, ny = (3, 2)\n",
    "x = np.linspace(0, 1, nx)\n",
    "y = np.linspace(0, 1, ny)\n",
    "xv, yv = np.meshgrid(x, y)\n",
    "print(xv)\n",
    "print(yv)"
   ]
  },
  {
   "cell_type": "markdown",
   "metadata": {},
   "source": [
    "#### 57. How to randomly place p elements in a 2D array? (★★☆) \n",
    "(**hint**: np.put, np.random.choice)"
   ]
  },
  {
   "cell_type": "code",
   "execution_count": 139,
   "metadata": {},
   "outputs": [
    {
     "name": "stdout",
     "output_type": "stream",
     "text": [
      "[-44   1 -55   3   4]\n"
     ]
    }
   ],
   "source": [
    "a = np.arange(5)\n",
    "np.put(a, [0, 2], [-44, -55])\n",
    "print(a)"
   ]
  },
  {
   "cell_type": "markdown",
   "metadata": {},
   "source": [
    "#### 58. Subtract the mean of each row of a matrix (★★☆) \n",
    "(**hint**: mean(axis=,keepdims=))"
   ]
  },
  {
   "cell_type": "code",
   "execution_count": 141,
   "metadata": {},
   "outputs": [
    {
     "name": "stdout",
     "output_type": "stream",
     "text": [
      "[[0.4659 0.1525]\n",
      " [0.0264 0.1408]\n",
      " [0.4075 0.6765]\n",
      " [0.1035 0.59  ]\n",
      " [0.488  0.7593]\n",
      " [0.9454 0.4318]\n",
      " [0.1141 0.395 ]\n",
      " [0.4805 0.4223]\n",
      " [0.0501 0.0967]\n",
      " [0.5429 0.0839]]\n"
     ]
    },
    {
     "data": {
      "text/plain": [
       "array([0.3092, 0.0836, 0.542 , 0.3467, 0.6237, 0.6886, 0.2546, 0.4514,\n",
       "       0.0734, 0.3134])"
      ]
     },
     "execution_count": 141,
     "metadata": {},
     "output_type": "execute_result"
    }
   ],
   "source": [
    "x=np.random.rand(10,2)\n",
    "print(x)\n",
    "np.mean(x, axis=1)"
   ]
  },
  {
   "cell_type": "markdown",
   "metadata": {},
   "source": [
    "#### 59. How to sort an array by the nth column? (★★☆) \n",
    "(**hint**: argsort)"
   ]
  },
  {
   "cell_type": "code",
   "execution_count": 142,
   "metadata": {},
   "outputs": [
    {
     "data": {
      "text/plain": [
       "array([1, 2, 0], dtype=int64)"
      ]
     },
     "execution_count": 142,
     "metadata": {},
     "output_type": "execute_result"
    }
   ],
   "source": [
    "x = np.array([3, 1, 2])\n",
    "np.argsort(x)"
   ]
  },
  {
   "cell_type": "markdown",
   "metadata": {},
   "source": [
    "#### 60. How to tell if a given 2D array has null columns? (★★☆) \n",
    "(**hint**: any, ~)"
   ]
  },
  {
   "cell_type": "code",
   "execution_count": 145,
   "metadata": {},
   "outputs": [
    {
     "name": "stdout",
     "output_type": "stream",
     "text": [
      "[[0.9753 0.8655]\n",
      " [0.1909 0.4579]\n",
      " [0.5653 0.0915]\n",
      " [0.8533 0.249 ]\n",
      " [0.6181 0.3628]\n",
      " [0.2562 0.1651]\n",
      " [0.3949 0.1072]\n",
      " [0.8277 0.0457]\n",
      " [0.8131 0.3084]\n",
      " [0.9157 0.2521]]\n"
     ]
    },
    {
     "data": {
      "text/plain": [
       "True"
      ]
     },
     "execution_count": 145,
     "metadata": {},
     "output_type": "execute_result"
    }
   ],
   "source": [
    "x=np.random.rand(10,2)\n",
    "print(x)\n",
    "np.any(np.nan)"
   ]
  },
  {
   "cell_type": "markdown",
   "metadata": {},
   "source": [
    "#### 61. Find the nearest value from a given value in an array (★★☆) \n",
    "(**hint**: np.abs, argmin, flat)"
   ]
  },
  {
   "cell_type": "code",
   "execution_count": 149,
   "metadata": {},
   "outputs": [
    {
     "data": {
      "text/plain": [
       "array([[0.7568, 0.9565],\n",
       "       [0.7414, 0.252 ],\n",
       "       [0.957 , 0.3253],\n",
       "       [0.0952, 0.5542],\n",
       "       [0.179 , 0.7565],\n",
       "       [0.2112, 0.9769],\n",
       "       [0.2384, 0.8672],\n",
       "       [0.7272, 0.9185],\n",
       "       [0.2405, 0.6355],\n",
       "       [0.239 , 0.1634]])"
      ]
     },
     "execution_count": 149,
     "metadata": {},
     "output_type": "execute_result"
    }
   ],
   "source": [
    "x=np.random.rand(10,2)\n",
    "abs(x)"
   ]
  },
  {
   "cell_type": "markdown",
   "metadata": {},
   "source": [
    "#### 62. Considering two arrays with shape (1,3) and (3,1), how to compute their sum using an iterator? (★★☆) \n",
    "(**hint**: np.nditer)"
   ]
  },
  {
   "cell_type": "code",
   "execution_count": 4,
   "metadata": {},
   "outputs": [
    {
     "name": "stdout",
     "output_type": "stream",
     "text": [
      "[[0 1 2]\n",
      " [1 2 3]\n",
      " [2 3 4]]\n"
     ]
    }
   ],
   "source": [
    "A = np.arange(3).reshape(3,1)\n",
    "B = np.arange(3).reshape(1,3)\n",
    "itr = np.nditer([A,B,None])\n",
    "for x,y,z in itr: z[...] = x + y\n",
    "print(itr.operands[2])"
   ]
  },
  {
   "cell_type": "markdown",
   "metadata": {},
   "source": [
    "#### 63. Create an array class that has a name attribute (★★☆) \n",
    "(**hint**: class method)"
   ]
  },
  {
   "cell_type": "code",
   "execution_count": 5,
   "metadata": {},
   "outputs": [
    {
     "name": "stdout",
     "output_type": "stream",
     "text": [
      "range_10\n"
     ]
    }
   ],
   "source": [
    "class NamedArray(np.ndarray):\n",
    "    def __new__(cls, array, name=\"no name\"):\n",
    "        obj = np.asarray(array).view(cls)\n",
    "        obj.name = name\n",
    "        return obj\n",
    "    def __array_finalize__(self, obj):\n",
    "        if obj is None: return\n",
    "        self.info = getattr(obj, 'name', \"no name\")\n",
    "\n",
    "aray = NamedArray(np.arange(10), \"range_10\")\n",
    "print (aray.name)"
   ]
  },
  {
   "cell_type": "markdown",
   "metadata": {},
   "source": [
    "#### 64. Consider a given vector, how to add 1 to each element indexed by a second vector (be careful with repeated indices)? (★★★) \n",
    "(**hint**: np.bincount | np.add.at)"
   ]
  },
  {
   "cell_type": "code",
   "execution_count": 6,
   "metadata": {},
   "outputs": [
    {
     "name": "stdout",
     "output_type": "stream",
     "text": [
      "[6. 1. 2. 2. 5. 2. 3. 2. 4. 3.]\n"
     ]
    }
   ],
   "source": [
    "Z = np.ones(10)\n",
    "I = np.random.randint(0,len(Z),20)\n",
    "Z += np.bincount(I, minlength=len(Z))\n",
    "print(Z)"
   ]
  },
  {
   "cell_type": "markdown",
   "metadata": {},
   "source": [
    "#### 65. How to accumulate elements of a vector (X) to an array (F) based on an index list (I)? (★★★) \n",
    "(**hint**: np.bincount)"
   ]
  },
  {
   "cell_type": "code",
   "execution_count": 7,
   "metadata": {},
   "outputs": [
    {
     "name": "stdout",
     "output_type": "stream",
     "text": [
      "[0. 7. 0. 6. 5. 0. 0. 0. 0. 3.]\n"
     ]
    }
   ],
   "source": [
    "X = [1,2,3,4,5,6]\n",
    "I = [1,3,9,3,4,1]\n",
    "F = np.bincount(I,X)\n",
    "print(F)"
   ]
  },
  {
   "cell_type": "markdown",
   "metadata": {},
   "source": [
    "#### 66. Considering a (w,h,3) image of (dtype=ubyte), compute the number of unique colors (★★★) \n",
    "(**hint**: np.unique)"
   ]
  },
  {
   "cell_type": "code",
   "execution_count": 8,
   "metadata": {},
   "outputs": [
    {
     "name": "stdout",
     "output_type": "stream",
     "text": [
      "[0 1]\n"
     ]
    }
   ],
   "source": [
    "w,h = 16,16\n",
    "I = np.random.randint(0,2,(h,w,3)).astype(np.ubyte)\n",
    "F = I[...,0]*256*256 + I[...,1]*256 +I[...,2]\n",
    "n = len(np.unique(F))\n",
    "print(np.unique(I))"
   ]
  },
  {
   "cell_type": "markdown",
   "metadata": {},
   "source": [
    "#### 67. Considering a four dimensions array, how to get sum over the last two axis at once? (★★★) \n",
    "(**hint**: sum(axis=(-2,-1)))"
   ]
  },
  {
   "cell_type": "code",
   "execution_count": 9,
   "metadata": {},
   "outputs": [
    {
     "name": "stdout",
     "output_type": "stream",
     "text": [
      "[[55 61 71 44]\n",
      " [51 53 69 60]\n",
      " [59 58 46 45]]\n"
     ]
    }
   ],
   "source": [
    "A = np.random.randint(0,10,(3,4,3,4))\n",
    "sum = A.sum(axis=(-2,-1))\n",
    "\n",
    "print(sum)"
   ]
  },
  {
   "cell_type": "markdown",
   "metadata": {},
   "source": [
    "#### 68. Considering a one-dimensional vector D, how to compute means of subsets of D using a vector S of same size describing subset  indices? (★★★) \n",
    "(**hint**: np.bincount)"
   ]
  },
  {
   "cell_type": "code",
   "execution_count": 12,
   "metadata": {},
   "outputs": [
    {
     "name": "stdout",
     "output_type": "stream",
     "text": [
      "[0.50546628 0.54987175 0.61375768 0.51280879 0.58011257 0.68761742\n",
      " 0.4615568  0.59666773 0.38816932 0.55436712]\n"
     ]
    }
   ],
   "source": [
    "D = np.random.uniform(0,1,100)\n",
    "S = np.random.randint(0,10,100)\n",
    "D_sums = np.bincount(S, weights=D)\n",
    "D_counts = np.bincount(S)\n",
    "D_means = D_sums / D_counts\n",
    "print(D_means)"
   ]
  },
  {
   "cell_type": "markdown",
   "metadata": {},
   "source": [
    "#### 69. How to get the diagonal of a dot product? (★★★) \n",
    "(**hint**: np.diag)"
   ]
  },
  {
   "cell_type": "code",
   "execution_count": 13,
   "metadata": {},
   "outputs": [
    {
     "data": {
      "text/plain": [
       "array([0.70139227, 1.26759255, 2.02456524, 0.70639889, 1.58768617])"
      ]
     },
     "execution_count": 13,
     "metadata": {},
     "output_type": "execute_result"
    }
   ],
   "source": [
    "A = np.random.uniform(0,1,(5,5))\n",
    "B = np.random.uniform(0,1,(5,5))\n",
    "\n",
    "np.diag(np.dot(A, B))"
   ]
  },
  {
   "cell_type": "markdown",
   "metadata": {},
   "source": [
    "#### 70. Consider the vector \\[1, 2, 3, 4, 5\\], how to build a new vector with 3 consecutive zeros interleaved between each value? (★★★) \n",
    "(**hint**: array\\[::4\\])"
   ]
  },
  {
   "cell_type": "code",
   "execution_count": 16,
   "metadata": {},
   "outputs": [
    {
     "name": "stdout",
     "output_type": "stream",
     "text": [
      "[1. 0. 0. 0. 2. 0. 0. 0. 3. 0. 0. 0. 4. 0. 0. 0. 5.]\n"
     ]
    }
   ],
   "source": [
    "x = np.array([1,2,3,4,5])\n",
    "nx = 3\n",
    "x_new = np.zeros(len(x) + (len(x)-1)*(nx))\n",
    "x_new[::nx+1] = x\n",
    "print(x_new)"
   ]
  },
  {
   "cell_type": "markdown",
   "metadata": {},
   "source": [
    "#### 71. Consider an array of dimension (5,5,3), how to mulitply it by an array with dimensions (5,5)? (★★★) \n",
    "(**hint**: array\\[:, :, None\\])"
   ]
  },
  {
   "cell_type": "code",
   "execution_count": 17,
   "metadata": {},
   "outputs": [
    {
     "name": "stdout",
     "output_type": "stream",
     "text": [
      "[[[2. 2. 2.]\n",
      "  [2. 2. 2.]\n",
      "  [2. 2. 2.]\n",
      "  [2. 2. 2.]\n",
      "  [2. 2. 2.]]\n",
      "\n",
      " [[2. 2. 2.]\n",
      "  [2. 2. 2.]\n",
      "  [2. 2. 2.]\n",
      "  [2. 2. 2.]\n",
      "  [2. 2. 2.]]\n",
      "\n",
      " [[2. 2. 2.]\n",
      "  [2. 2. 2.]\n",
      "  [2. 2. 2.]\n",
      "  [2. 2. 2.]\n",
      "  [2. 2. 2.]]\n",
      "\n",
      " [[2. 2. 2.]\n",
      "  [2. 2. 2.]\n",
      "  [2. 2. 2.]\n",
      "  [2. 2. 2.]\n",
      "  [2. 2. 2.]]\n",
      "\n",
      " [[2. 2. 2.]\n",
      "  [2. 2. 2.]\n",
      "  [2. 2. 2.]\n",
      "  [2. 2. 2.]\n",
      "  [2. 2. 2.]]]\n"
     ]
    }
   ],
   "source": [
    "A = np.ones((5,5,3))\n",
    "B = 2*np.ones((5,5))\n",
    "print(A * B[:,:,None])"
   ]
  },
  {
   "cell_type": "markdown",
   "metadata": {},
   "source": [
    "#### 72. How to swap two rows of an array? (★★★) \n",
    "(**hint**: array\\[\\[\\]\\] = array\\[\\[\\]\\])"
   ]
  },
  {
   "cell_type": "code",
   "execution_count": 18,
   "metadata": {},
   "outputs": [
    {
     "name": "stdout",
     "output_type": "stream",
     "text": [
      "[[ 5  6  7  8  9]\n",
      " [ 0  1  2  3  4]\n",
      " [10 11 12 13 14]\n",
      " [15 16 17 18 19]\n",
      " [20 21 22 23 24]]\n"
     ]
    }
   ],
   "source": [
    "A = np.arange(25).reshape(5,5)\n",
    "A[[0,1]] = A[[1,0]]\n",
    "print(A)"
   ]
  },
  {
   "cell_type": "markdown",
   "metadata": {},
   "source": [
    "#### 73. Consider a set of 10 triplets describing 10 triangles (with shared vertices), find the set of unique line segments composing all the  triangles (★★★) \n",
    "(**hint**: repeat, np.roll, np.sort, view, np.unique)"
   ]
  },
  {
   "cell_type": "code",
   "execution_count": 19,
   "metadata": {},
   "outputs": [
    {
     "name": "stdout",
     "output_type": "stream",
     "text": [
      "[( 0, 44) ( 0, 85) ( 1, 11) ( 1, 56) ( 1, 69) ( 1, 90) ( 6, 12) ( 6, 44)\n",
      " (10, 91) (10, 93) (11, 56) (12, 44) (17, 60) (17, 85) (19, 44) (19, 96)\n",
      " (21, 30) (21, 35) (30, 35) (42, 93) (42, 98) (44, 85) (44, 96) (60, 85)\n",
      " (69, 90) (89, 96) (89, 97) (91, 93) (93, 98) (96, 97)]\n"
     ]
    }
   ],
   "source": [
    "faces = np.random.randint(0,100,(10,3))\n",
    "F = np.roll(faces.repeat(2,axis=1),-1,axis=1)\n",
    "F = F.reshape(len(F)*3,2)\n",
    "F = np.sort(F,axis=1)\n",
    "G = F.view( dtype=[('p0',F.dtype),('p1',F.dtype)] )\n",
    "G = np.unique(G)\n",
    "print(G)"
   ]
  },
  {
   "cell_type": "markdown",
   "metadata": {},
   "source": [
    "#### 74. Given an array C that is a bincount, how to produce an array A such that np.bincount(A) == C? (★★★) \n",
    "(**hint**: np.repeat)"
   ]
  },
  {
   "cell_type": "code",
   "execution_count": 20,
   "metadata": {},
   "outputs": [
    {
     "name": "stdout",
     "output_type": "stream",
     "text": [
      "[1 1 2 3 4 4 6]\n"
     ]
    }
   ],
   "source": [
    "C = np.bincount([1,1,2,3,4,4,6])\n",
    "A = np.repeat(np.arange(len(C)), C)\n",
    "print(A)"
   ]
  },
  {
   "cell_type": "markdown",
   "metadata": {},
   "source": [
    "#### 75. How to compute averages using a sliding window over an array? (★★★) \n",
    "(**hint**: np.cumsum)"
   ]
  },
  {
   "cell_type": "code",
   "execution_count": 21,
   "metadata": {},
   "outputs": [
    {
     "name": "stdout",
     "output_type": "stream",
     "text": [
      "[ 1.  2.  3.  4.  5.  6.  7.  8.  9. 10. 11. 12. 13. 14. 15. 16. 17. 18.]\n"
     ]
    }
   ],
   "source": [
    "def moving_average(a, n=3) :\n",
    "    ret = np.cumsum(a, dtype=float)\n",
    "    ret[n:] = ret[n:] - ret[:-n]\n",
    "    return ret[n - 1:] / n\n",
    "Z = np.arange(20)\n",
    "print(moving_average(Z, n=3))"
   ]
  },
  {
   "cell_type": "markdown",
   "metadata": {},
   "source": [
    "#### 76. Consider a one-dimensional array Z, build a two-dimensional array whose first row is (Z\\[0\\],Z\\[1\\],Z\\[2\\]) and each subsequent row is  shifted by 1 (last row should be (Z\\[-3\\],Z\\[-2\\],Z\\[-1\\]) (★★★) \n",
    "(**hint**: from numpy.lib import stride_tricks)"
   ]
  },
  {
   "cell_type": "code",
   "execution_count": 22,
   "metadata": {},
   "outputs": [
    {
     "name": "stdout",
     "output_type": "stream",
     "text": [
      "[[0 1 2]\n",
      " [1 2 3]\n",
      " [2 3 4]\n",
      " [3 4 5]\n",
      " [4 5 6]\n",
      " [5 6 7]\n",
      " [6 7 8]\n",
      " [7 8 9]]\n"
     ]
    }
   ],
   "source": [
    "from numpy.lib import stride_tricks\n",
    "\n",
    "def rolling(a, window):\n",
    "    shape = (a.size - window + 1, window)\n",
    "    strides = (a.itemsize, a.itemsize)\n",
    "    return stride_tricks.as_strided(a, shape=shape, strides=strides)\n",
    "Z = rolling(np.arange(10), 3)\n",
    "print(Z)"
   ]
  },
  {
   "cell_type": "markdown",
   "metadata": {},
   "source": [
    "#### 77. How to negate a boolean, or to change the sign of a float inplace? (★★★) \n",
    "(**hint**: np.logical_not, np.negative)"
   ]
  },
  {
   "cell_type": "code",
   "execution_count": 23,
   "metadata": {},
   "outputs": [
    {
     "data": {
      "text/plain": [
       "array([-0.36603971, -0.30861354, -0.97614395, -0.25113215,  0.83282377,\n",
       "       -0.77572331, -0.99994824, -0.88460094, -0.3773272 , -0.936369  ,\n",
       "        0.81404107,  0.67782789,  0.14705918,  0.55020884, -0.16772328,\n",
       "       -0.40299336,  0.33823384, -0.58178335, -0.58446579, -0.48273984,\n",
       "        0.97677884,  0.69865159,  0.20300128,  0.4790128 , -0.22742554,\n",
       "       -0.21796862,  0.29237548,  0.48130224, -0.62219921,  0.54959642,\n",
       "       -0.06098828,  0.09570449,  0.83515802, -0.82338451, -0.74208377,\n",
       "       -0.85770865, -0.56040304,  0.585672  ,  0.11760065,  0.07713327,\n",
       "        0.17881511,  0.2313679 , -0.12110564, -0.72886709,  0.26051768,\n",
       "        0.03872505, -0.04863601,  0.22357864,  0.65494493, -0.7015995 ,\n",
       "        0.46586532,  0.16558808,  0.52127419,  0.76709919,  0.39963753,\n",
       "       -0.42388425, -0.52554501, -0.19591193,  0.40755848, -0.48445736,\n",
       "        0.24424761,  0.36198869, -0.60290419, -0.96773977, -0.38432867,\n",
       "        0.17116942,  0.50317018,  0.3366659 ,  0.93274082,  0.99953924,\n",
       "       -0.25413281, -0.93706231, -0.80568347,  0.04581241, -0.16628335,\n",
       "       -0.12638913,  0.69538523, -0.99639229, -0.16340323, -0.50635356,\n",
       "       -0.09099127, -0.58365081, -0.39936511,  0.29750514, -0.00386512,\n",
       "        0.07425556, -0.72606428, -0.45876327, -0.72431644, -0.8905926 ,\n",
       "       -0.85372675,  0.6271619 , -0.794762  , -0.75194992, -0.61549952,\n",
       "       -0.31571734,  0.66058164,  0.63698509, -0.89950868,  0.86535286])"
      ]
     },
     "execution_count": 23,
     "metadata": {},
     "output_type": "execute_result"
    }
   ],
   "source": [
    "x = np.random.randint(0,2,100)\n",
    "np.logical_not(x, out=x)\n",
    "\n",
    "x = np.random.uniform(-1.0,1.0,100)\n",
    "np.negative(x, out=x)"
   ]
  },
  {
   "cell_type": "markdown",
   "metadata": {},
   "source": [
    "#### 78. Consider 2 sets of points P0,P1 describing lines (2d) and a point p, how to compute distance from p to each line i  (P0\\[i\\],P1\\[i\\])? (★★★)"
   ]
  },
  {
   "cell_type": "code",
   "execution_count": 24,
   "metadata": {},
   "outputs": [
    {
     "name": "stdout",
     "output_type": "stream",
     "text": [
      "[14.29754017  0.43649279 19.12316173 11.30672442  0.21434913 14.02072605\n",
      " 14.96023658 12.2061311  14.23138971  3.29044082]\n"
     ]
    }
   ],
   "source": [
    "def distance(P0, P1, p):\n",
    "    T = P1 - P0\n",
    "    L = (T**2).sum(axis=1)\n",
    "    U = -((P0[:,0]-p[...,0])*T[:,0] + (P0[:,1]-p[...,1])*T[:,1]) / L\n",
    "    U = U.reshape(len(U),1)\n",
    "    D = P0 + U*T - p\n",
    "    return np.sqrt((D**2).sum(axis=1))\n",
    "\n",
    "P0 = np.random.uniform(-10,10,(10,2))\n",
    "P1 = np.random.uniform(-10,10,(10,2))\n",
    "p  = np.random.uniform(-10,10,( 1,2))\n",
    "print(distance(P0, P1, p))"
   ]
  },
  {
   "cell_type": "markdown",
   "metadata": {},
   "source": [
    "#### 79. Consider 2 sets of points P0,P1 describing lines (2d) and a set of points P, how to compute distance from each point j (P\\[j\\]) to each line i (P0\\[i\\],P1\\[i\\])? (★★★)"
   ]
  },
  {
   "cell_type": "code",
   "execution_count": 25,
   "metadata": {},
   "outputs": [
    {
     "name": "stdout",
     "output_type": "stream",
     "text": [
      "[[ 9.57788647 11.66293767  0.38546431  2.53644749 13.26117461  3.16193767\n",
      "   7.07516215  5.61189091  1.68720992  7.45340776]\n",
      " [ 2.38864544  7.74291998  8.35223028  3.96085922  2.6482381   4.04895467\n",
      "   4.93131659  9.72276283  0.05942934  5.03190993]\n",
      " [ 0.28396822  5.67638134  3.89761172  0.41831517  3.81401186  4.8107149\n",
      "   1.62051836  5.63300313  2.73640442  2.47424994]\n",
      " [ 5.38467234  5.7762734  11.43198437 16.2489818   2.96471479 12.31897024\n",
      "   6.30416622 10.26695951 16.13563168 10.31498107]\n",
      " [ 9.65670349  9.06674929  2.05130683  5.18879266 12.25757602  1.09523545\n",
      "   7.71505477  2.75818611  1.11777893  4.707926  ]\n",
      " [ 2.29222246  0.06287612  1.27553597  3.76648869  0.42353544 10.20895019\n",
      "   3.18515664  1.37619303  8.20878717  3.07026927]\n",
      " [ 0.66253775  4.40807207  2.37948254  2.00956917  3.57971618  5.70526052\n",
      "   0.942886    4.00197438  4.180089    1.0844982 ]\n",
      " [10.95257732  5.48179933  6.56000077  9.88280261 11.76531919  1.35681928\n",
      "   9.87282349  2.00933868  5.24716017  0.74749903]\n",
      " [ 1.65811605  7.74924695  7.65401817  3.3323392   3.20074664  3.79660527\n",
      "   4.14851697  9.22064052  0.09139118  4.93436708]\n",
      " [ 0.48881271  6.78115029  4.70482743  0.50319915  4.42052559  3.85057976\n",
      "   1.63693294  6.68127776  1.59421592  3.60854422]]\n"
     ]
    }
   ],
   "source": [
    "\n",
    "P0 = np.random.uniform(-10, 10, (10,2))\n",
    "P1 = np.random.uniform(-10,10,(10,2))\n",
    "p = np.random.uniform(-10, 10, (10,2))\n",
    "print(np.array([distance(P0,P1,p_i) for p_i in p]))"
   ]
  },
  {
   "cell_type": "markdown",
   "metadata": {},
   "source": [
    "#### 80. Consider an arbitrary array, write a function that extract a subpart with a fixed shape and centered on a given element (pad with a `fill` value when necessary) (★★★) \n",
    "(**hint**: minimum, maximum)"
   ]
  },
  {
   "cell_type": "code",
   "execution_count": 26,
   "metadata": {},
   "outputs": [
    {
     "name": "stdout",
     "output_type": "stream",
     "text": [
      "[[4 1 1 2 4 9 7 1 5 3]\n",
      " [3 2 7 8 3 4 8 7 6 1]\n",
      " [4 9 5 4 7 1 7 4 8 1]\n",
      " [6 9 4 8 3 1 8 1 1 6]\n",
      " [8 9 1 2 8 4 6 2 1 6]\n",
      " [8 4 9 8 4 5 5 5 5 0]\n",
      " [7 4 4 7 0 2 2 5 1 1]\n",
      " [4 4 6 1 6 9 8 5 3 4]\n",
      " [2 6 9 9 4 9 2 7 8 2]\n",
      " [3 8 5 7 4 5 3 8 6 7]]\n",
      "[[0 0 0 0 0]\n",
      " [0 4 1 1 2]\n",
      " [0 3 2 7 8]\n",
      " [0 4 9 5 4]\n",
      " [0 6 9 4 8]]\n"
     ]
    },
    {
     "name": "stderr",
     "output_type": "stream",
     "text": [
      "C:\\Users\\91971\\AppData\\Local\\Temp\\ipykernel_12776\\1159162857.py:23: FutureWarning: Using a non-tuple sequence for multidimensional indexing is deprecated; use `arr[tuple(seq)]` instead of `arr[seq]`. In the future this will be interpreted as an array index, `arr[np.array(seq)]`, which will result either in an error or a different result.\n",
      "  R[r] = Z[z]\n"
     ]
    }
   ],
   "source": [
    "Z = np.random.randint(0,10,(10,10))\n",
    "shape = (5,5)\n",
    "fill  = 0\n",
    "position = (1,1)\n",
    "\n",
    "R = np.ones(shape, dtype=Z.dtype)*fill\n",
    "P  = np.array(list(position)).astype(int)\n",
    "Rs = np.array(list(R.shape)).astype(int)\n",
    "Zs = np.array(list(Z.shape)).astype(int)\n",
    "\n",
    "R_start = np.zeros((len(shape),)).astype(int)\n",
    "R_stop  = np.array(list(shape)).astype(int)\n",
    "Z_start = (P-Rs//2)\n",
    "Z_stop  = (P+Rs//2)+Rs%2\n",
    "\n",
    "R_start = (R_start - np.minimum(Z_start,0)).tolist()\n",
    "Z_start = (np.maximum(Z_start,0)).tolist()\n",
    "R_stop = np.maximum(R_start, (R_stop - np.maximum(Z_stop-Zs,0))).tolist()\n",
    "Z_stop = (np.minimum(Z_stop,Zs)).tolist()\n",
    "\n",
    "r = [slice(start,stop) for start,stop in zip(R_start,R_stop)]\n",
    "z = [slice(start,stop) for start,stop in zip(Z_start,Z_stop)]\n",
    "R[r] = Z[z]\n",
    "print(Z)\n",
    "print(R)"
   ]
  },
  {
   "cell_type": "markdown",
   "metadata": {},
   "source": [
    "#### 81. Consider an array Z = \\[1,2,3,4,5,6,7,8,9,10,11,12,13,14\\], how to generate an array R = \\[\\[1,2,3,4\\], \\[2,3,4,5\\], \\[3,4,5,6\\], ..., \\[11,12,13,14\\]\\]? (★★★) \n",
    "(**hint**: stride\\_tricks.as\\_strided)"
   ]
  },
  {
   "cell_type": "code",
   "execution_count": 27,
   "metadata": {},
   "outputs": [
    {
     "name": "stdout",
     "output_type": "stream",
     "text": [
      "[[ 1  2  3  4]\n",
      " [ 2  3  4  5]\n",
      " [ 3  4  5  6]\n",
      " [ 4  5  6  7]\n",
      " [ 5  6  7  8]\n",
      " [ 6  7  8  9]\n",
      " [ 7  8  9 10]\n",
      " [ 8  9 10 11]\n",
      " [ 9 10 11 12]\n",
      " [10 11 12 13]\n",
      " [11 12 13 14]]\n"
     ]
    }
   ],
   "source": [
    "Z = np.arange(1,15,dtype=np.uint32)\n",
    "R = stride_tricks.as_strided(Z,(11,4),(4,4))\n",
    "print(R)"
   ]
  },
  {
   "cell_type": "markdown",
   "metadata": {},
   "source": [
    "#### 82. Compute a matrix rank (★★★) \n",
    "(**hint**: np.linalg.svd) (suggestion: np.linalg.svd)"
   ]
  },
  {
   "cell_type": "code",
   "execution_count": 28,
   "metadata": {},
   "outputs": [
    {
     "name": "stdout",
     "output_type": "stream",
     "text": [
      "10\n"
     ]
    }
   ],
   "source": [
    "Z = np.random.uniform(0,1,(10,10))\n",
    "U, S, V = np.linalg.svd(Z) # Singular Value Decomposition\n",
    "rank = np.sum(S > 1e-10)\n",
    "print(rank)"
   ]
  },
  {
   "cell_type": "markdown",
   "metadata": {},
   "source": [
    "#### 83. How to find the most frequent value in an array? \n",
    "(**hint**: np.bincount, argmax)"
   ]
  },
  {
   "cell_type": "code",
   "execution_count": 29,
   "metadata": {},
   "outputs": [
    {
     "name": "stdout",
     "output_type": "stream",
     "text": [
      "7\n"
     ]
    }
   ],
   "source": [
    "aray = np.random.randint(0,10,50)\n",
    "print(np.bincount(aray).argmax())"
   ]
  },
  {
   "cell_type": "markdown",
   "metadata": {},
   "source": [
    "#### 84. Extract all the contiguous 3x3 blocks from a random 10x10 matrix (★★★) \n",
    "(**hint**: stride\\_tricks.as\\_strided)"
   ]
  },
  {
   "cell_type": "code",
   "execution_count": 30,
   "metadata": {},
   "outputs": [
    {
     "name": "stdout",
     "output_type": "stream",
     "text": [
      "[[[[1 0 0]\n",
      "   [2 4 0]\n",
      "   [1 2 0]]\n",
      "\n",
      "  [[0 0 4]\n",
      "   [4 0 1]\n",
      "   [2 0 1]]\n",
      "\n",
      "  [[0 4 2]\n",
      "   [0 1 1]\n",
      "   [0 1 4]]\n",
      "\n",
      "  [[4 2 2]\n",
      "   [1 1 2]\n",
      "   [1 4 2]]\n",
      "\n",
      "  [[2 2 1]\n",
      "   [1 2 0]\n",
      "   [4 2 4]]\n",
      "\n",
      "  [[2 1 1]\n",
      "   [2 0 3]\n",
      "   [2 4 3]]\n",
      "\n",
      "  [[1 1 2]\n",
      "   [0 3 0]\n",
      "   [4 3 1]]\n",
      "\n",
      "  [[1 2 2]\n",
      "   [3 0 2]\n",
      "   [3 1 3]]]\n",
      "\n",
      "\n",
      " [[[2 4 0]\n",
      "   [1 2 0]\n",
      "   [0 3 3]]\n",
      "\n",
      "  [[4 0 1]\n",
      "   [2 0 1]\n",
      "   [3 3 4]]\n",
      "\n",
      "  [[0 1 1]\n",
      "   [0 1 4]\n",
      "   [3 4 2]]\n",
      "\n",
      "  [[1 1 2]\n",
      "   [1 4 2]\n",
      "   [4 2 1]]\n",
      "\n",
      "  [[1 2 0]\n",
      "   [4 2 4]\n",
      "   [2 1 3]]\n",
      "\n",
      "  [[2 0 3]\n",
      "   [2 4 3]\n",
      "   [1 3 1]]\n",
      "\n",
      "  [[0 3 0]\n",
      "   [4 3 1]\n",
      "   [3 1 4]]\n",
      "\n",
      "  [[3 0 2]\n",
      "   [3 1 3]\n",
      "   [1 4 1]]]\n",
      "\n",
      "\n",
      " [[[1 2 0]\n",
      "   [0 3 3]\n",
      "   [1 3 1]]\n",
      "\n",
      "  [[2 0 1]\n",
      "   [3 3 4]\n",
      "   [3 1 0]]\n",
      "\n",
      "  [[0 1 4]\n",
      "   [3 4 2]\n",
      "   [1 0 2]]\n",
      "\n",
      "  [[1 4 2]\n",
      "   [4 2 1]\n",
      "   [0 2 2]]\n",
      "\n",
      "  [[4 2 4]\n",
      "   [2 1 3]\n",
      "   [2 2 1]]\n",
      "\n",
      "  [[2 4 3]\n",
      "   [1 3 1]\n",
      "   [2 1 0]]\n",
      "\n",
      "  [[4 3 1]\n",
      "   [3 1 4]\n",
      "   [1 0 1]]\n",
      "\n",
      "  [[3 1 3]\n",
      "   [1 4 1]\n",
      "   [0 1 0]]]\n",
      "\n",
      "\n",
      " [[[0 3 3]\n",
      "   [1 3 1]\n",
      "   [4 4 1]]\n",
      "\n",
      "  [[3 3 4]\n",
      "   [3 1 0]\n",
      "   [4 1 3]]\n",
      "\n",
      "  [[3 4 2]\n",
      "   [1 0 2]\n",
      "   [1 3 3]]\n",
      "\n",
      "  [[4 2 1]\n",
      "   [0 2 2]\n",
      "   [3 3 1]]\n",
      "\n",
      "  [[2 1 3]\n",
      "   [2 2 1]\n",
      "   [3 1 4]]\n",
      "\n",
      "  [[1 3 1]\n",
      "   [2 1 0]\n",
      "   [1 4 4]]\n",
      "\n",
      "  [[3 1 4]\n",
      "   [1 0 1]\n",
      "   [4 4 0]]\n",
      "\n",
      "  [[1 4 1]\n",
      "   [0 1 0]\n",
      "   [4 0 0]]]\n",
      "\n",
      "\n",
      " [[[1 3 1]\n",
      "   [4 4 1]\n",
      "   [1 2 0]]\n",
      "\n",
      "  [[3 1 0]\n",
      "   [4 1 3]\n",
      "   [2 0 1]]\n",
      "\n",
      "  [[1 0 2]\n",
      "   [1 3 3]\n",
      "   [0 1 3]]\n",
      "\n",
      "  [[0 2 2]\n",
      "   [3 3 1]\n",
      "   [1 3 1]]\n",
      "\n",
      "  [[2 2 1]\n",
      "   [3 1 4]\n",
      "   [3 1 2]]\n",
      "\n",
      "  [[2 1 0]\n",
      "   [1 4 4]\n",
      "   [1 2 2]]\n",
      "\n",
      "  [[1 0 1]\n",
      "   [4 4 0]\n",
      "   [2 2 4]]\n",
      "\n",
      "  [[0 1 0]\n",
      "   [4 0 0]\n",
      "   [2 4 4]]]\n",
      "\n",
      "\n",
      " [[[4 4 1]\n",
      "   [1 2 0]\n",
      "   [3 2 1]]\n",
      "\n",
      "  [[4 1 3]\n",
      "   [2 0 1]\n",
      "   [2 1 0]]\n",
      "\n",
      "  [[1 3 3]\n",
      "   [0 1 3]\n",
      "   [1 0 3]]\n",
      "\n",
      "  [[3 3 1]\n",
      "   [1 3 1]\n",
      "   [0 3 1]]\n",
      "\n",
      "  [[3 1 4]\n",
      "   [3 1 2]\n",
      "   [3 1 0]]\n",
      "\n",
      "  [[1 4 4]\n",
      "   [1 2 2]\n",
      "   [1 0 0]]\n",
      "\n",
      "  [[4 4 0]\n",
      "   [2 2 4]\n",
      "   [0 0 4]]\n",
      "\n",
      "  [[4 0 0]\n",
      "   [2 4 4]\n",
      "   [0 4 4]]]\n",
      "\n",
      "\n",
      " [[[1 2 0]\n",
      "   [3 2 1]\n",
      "   [4 0 1]]\n",
      "\n",
      "  [[2 0 1]\n",
      "   [2 1 0]\n",
      "   [0 1 3]]\n",
      "\n",
      "  [[0 1 3]\n",
      "   [1 0 3]\n",
      "   [1 3 4]]\n",
      "\n",
      "  [[1 3 1]\n",
      "   [0 3 1]\n",
      "   [3 4 1]]\n",
      "\n",
      "  [[3 1 2]\n",
      "   [3 1 0]\n",
      "   [4 1 1]]\n",
      "\n",
      "  [[1 2 2]\n",
      "   [1 0 0]\n",
      "   [1 1 1]]\n",
      "\n",
      "  [[2 2 4]\n",
      "   [0 0 4]\n",
      "   [1 1 4]]\n",
      "\n",
      "  [[2 4 4]\n",
      "   [0 4 4]\n",
      "   [1 4 3]]]\n",
      "\n",
      "\n",
      " [[[3 2 1]\n",
      "   [4 0 1]\n",
      "   [0 1 3]]\n",
      "\n",
      "  [[2 1 0]\n",
      "   [0 1 3]\n",
      "   [1 3 0]]\n",
      "\n",
      "  [[1 0 3]\n",
      "   [1 3 4]\n",
      "   [3 0 1]]\n",
      "\n",
      "  [[0 3 1]\n",
      "   [3 4 1]\n",
      "   [0 1 1]]\n",
      "\n",
      "  [[3 1 0]\n",
      "   [4 1 1]\n",
      "   [1 1 1]]\n",
      "\n",
      "  [[1 0 0]\n",
      "   [1 1 1]\n",
      "   [1 1 4]]\n",
      "\n",
      "  [[0 0 4]\n",
      "   [1 1 4]\n",
      "   [1 4 0]]\n",
      "\n",
      "  [[0 4 4]\n",
      "   [1 4 3]\n",
      "   [4 0 2]]]]\n"
     ]
    }
   ],
   "source": [
    "Z = np.random.randint(0,5,(10,10))\n",
    "n = 3\n",
    "i = 1 + (Z.shape[0]-3)\n",
    "j = 1 + (Z.shape[1]-3)\n",
    "C = stride_tricks.as_strided(Z, shape=(i, j, n, n), strides=Z.strides + Z.strides)\n",
    "print(C)"
   ]
  },
  {
   "cell_type": "markdown",
   "metadata": {},
   "source": [
    "#### 85. Create a 2D array subclass such that Z\\[i,j\\] == Z\\[j,i\\] (★★★) \n",
    "(**hint**: class method)"
   ]
  },
  {
   "cell_type": "code",
   "execution_count": 31,
   "metadata": {},
   "outputs": [
    {
     "name": "stdout",
     "output_type": "stream",
     "text": [
      "[[ 4 13 12 16  9]\n",
      " [13  7 12  2 12]\n",
      " [12 12  0 42  1]\n",
      " [16  2 42  2 10]\n",
      " [ 9 12  1 10  4]]\n"
     ]
    }
   ],
   "source": [
    "class Symetric(np.ndarray):\n",
    "    def __setitem__(self, index, value):\n",
    "        i,j = index\n",
    "        super(Symetric, self).__setitem__((i,j), value)\n",
    "        super(Symetric, self).__setitem__((j,i), value)\n",
    "\n",
    "def symetric(Z):\n",
    "    return np.asarray(Z + Z.T - np.diag(Z.diagonal())).view(Symetric)\n",
    "\n",
    "S = symetric(np.random.randint(0,10,(5,5)))\n",
    "S[2,3] = 42\n",
    "print(S)"
   ]
  },
  {
   "cell_type": "markdown",
   "metadata": {},
   "source": [
    "#### 86. Consider a set of p matrices wich shape (n,n) and a set of p vectors with shape (n,1). How to compute the sum of of the p matrix products at once? (result has shape (n,1)) (★★★) \n",
    "(**hint**: np.tensordot)"
   ]
  },
  {
   "cell_type": "code",
   "execution_count": 32,
   "metadata": {},
   "outputs": [
    {
     "name": "stdout",
     "output_type": "stream",
     "text": [
      "[[50.]\n",
      " [50.]\n",
      " [50.]\n",
      " [50.]\n",
      " [50.]\n",
      " [50.]\n",
      " [50.]\n",
      " [50.]\n",
      " [50.]\n",
      " [50.]]\n"
     ]
    }
   ],
   "source": [
    "p, n = 5, 10\n",
    "M = np.ones((p,n,n))\n",
    "V = np.ones((p,n,1))\n",
    "S = np.tensordot(M, V, axes=[[0, 2], [0, 1]])\n",
    "print(S)"
   ]
  },
  {
   "cell_type": "markdown",
   "metadata": {},
   "source": [
    "#### 87. Consider a 16x16 array, how to get the block-sum (block size is 4x4)? (★★★) \n",
    "(**hint**: np.add.reduceat)"
   ]
  },
  {
   "cell_type": "code",
   "execution_count": 33,
   "metadata": {},
   "outputs": [
    {
     "name": "stdout",
     "output_type": "stream",
     "text": [
      "[[16. 16. 16. 16.]\n",
      " [16. 16. 16. 16.]\n",
      " [16. 16. 16. 16.]\n",
      " [16. 16. 16. 16.]]\n"
     ]
    }
   ],
   "source": [
    "x = np.ones((16,16))\n",
    "k = 4\n",
    "S = np.add.reduceat(np.add.reduceat(x, np.arange(0, x.shape[0], k), axis=0),\n",
    "                                       np.arange(0, x.shape[1], k), axis=1)\n",
    "print(S)"
   ]
  },
  {
   "cell_type": "markdown",
   "metadata": {},
   "source": [
    "#### 88. How to implement the Game of Life using numpy arrays? (★★★)"
   ]
  },
  {
   "cell_type": "code",
   "execution_count": 34,
   "metadata": {},
   "outputs": [
    {
     "name": "stdout",
     "output_type": "stream",
     "text": [
      "[[0 0 0 ... 0 0 0]\n",
      " [0 0 0 ... 0 0 0]\n",
      " [0 0 0 ... 0 0 0]\n",
      " ...\n",
      " [0 0 0 ... 0 0 0]\n",
      " [0 0 0 ... 0 0 0]\n",
      " [0 0 0 ... 0 0 0]]\n"
     ]
    }
   ],
   "source": [
    "def iterate(Z):\n",
    "    N = (Z[0:-2,0:-2] + Z[0:-2,1:-1] + Z[0:-2,2:] +\n",
    "         Z[1:-1,0:-2]                + Z[1:-1,2:] +\n",
    "         Z[2:  ,0:-2] + Z[2:  ,1:-1] + Z[2:  ,2:])\n",
    "\n",
    "    birth = (N==3) & (Z[1:-1,1:-1]==0)\n",
    "    survive = ((N==2) | (N==3)) & (Z[1:-1,1:-1]==1)\n",
    "    Z[...] = 0\n",
    "    Z[1:-1,1:-1][birth | survive] = 1\n",
    "    return Z\n",
    "\n",
    "Z = np.random.randint(0,2,(50,50))\n",
    "for i in range(100): Z = iterate(Z)\n",
    "print(Z)"
   ]
  },
  {
   "cell_type": "markdown",
   "metadata": {},
   "source": [
    "#### 89. How to get the n largest values of an array (★★★) \n",
    "(**hint**: np.argsort | np.argpartition)"
   ]
  },
  {
   "cell_type": "code",
   "execution_count": 35,
   "metadata": {},
   "outputs": [
    {
     "name": "stdout",
     "output_type": "stream",
     "text": [
      "[9998 9997 9999 9995 9996]\n"
     ]
    }
   ],
   "source": [
    "x = np.arange(10000)\n",
    "np.random.shuffle(x)\n",
    "n = 5\n",
    "\n",
    "print (x[np.argpartition(-x,n)[:n]])"
   ]
  },
  {
   "cell_type": "markdown",
   "metadata": {},
   "source": [
    "#### 90. Given an arbitrary number of vectors, build the cartesian product (every combinations of every item) (★★★) \n",
    "(**hint**: np.indices)"
   ]
  },
  {
   "cell_type": "code",
   "execution_count": 36,
   "metadata": {
    "scrolled": true
   },
   "outputs": [
    {
     "name": "stdout",
     "output_type": "stream",
     "text": [
      "[[1 4 6]\n",
      " [1 4 7]\n",
      " [1 5 6]\n",
      " [1 5 7]\n",
      " [2 4 6]\n",
      " [2 4 7]\n",
      " [2 5 6]\n",
      " [2 5 7]\n",
      " [3 4 6]\n",
      " [3 4 7]\n",
      " [3 5 6]\n",
      " [3 5 7]]\n"
     ]
    }
   ],
   "source": [
    "def cartesian(arrays):\n",
    "    arrays = [np.asarray(a) for a in arrays]\n",
    "    shape = (len(x) for x in arrays)\n",
    "\n",
    "    ix = np.indices(shape, dtype=int)\n",
    "    ix = ix.reshape(len(arrays), -1).T\n",
    "\n",
    "    for n, arr in enumerate(arrays):\n",
    "        ix[:, n] = arrays[n][ix[:, n]]\n",
    "\n",
    "    return ix\n",
    "\n",
    "print (cartesian(([1, 2, 3], [4, 5], [6, 7])))"
   ]
  },
  {
   "cell_type": "markdown",
   "metadata": {},
   "source": [
    "#### 91. How to create a record array from a regular array? (★★★) \n",
    "(**hint**: np.core.records.fromarrays)"
   ]
  },
  {
   "cell_type": "code",
   "execution_count": 37,
   "metadata": {},
   "outputs": [
    {
     "name": "stdout",
     "output_type": "stream",
     "text": [
      "[(b'Hello', 2.5, 3) (b'World', 3.6, 2)]\n"
     ]
    }
   ],
   "source": [
    "x = np.array([(\"Hello\", 2.5, 3),\n",
    "              (\"World\", 3.6, 2)])\n",
    "R = np.core.records.fromarrays(x.T, \n",
    "                               names='col1, col2, col3',\n",
    "                               formats = 'S8, f8, i8')\n",
    "print(R)"
   ]
  },
  {
   "cell_type": "markdown",
   "metadata": {},
   "source": [
    "#### 92. Consider a large vector Z, compute Z to the power of 3 using 3 different methods (★★★) \n",
    "(**hint**: np.power, \\*, np.einsum)"
   ]
  },
  {
   "cell_type": "code",
   "execution_count": 38,
   "metadata": {},
   "outputs": [
    {
     "name": "stdout",
     "output_type": "stream",
     "text": [
      "4.15 µs ± 33.9 ns per loop (mean ± std. dev. of 7 runs, 100,000 loops each)\n",
      "2.19 µs ± 101 ns per loop (mean ± std. dev. of 7 runs, 100,000 loops each)\n",
      "5.69 µs ± 43.3 ns per loop (mean ± std. dev. of 7 runs, 100,000 loops each)\n"
     ]
    }
   ],
   "source": [
    "x = np.random.rand(5)\n",
    "\n",
    "%timeit np.power(x,3)\n",
    "%timeit x*x*x\n",
    "%timeit np.einsum('i,i,i->i',x,x,x)"
   ]
  },
  {
   "cell_type": "markdown",
   "metadata": {},
   "source": [
    "#### 93. Consider two arrays A and B of shape (8,3) and (2,2). How to find rows of A that contain elements of each row of B regardless of the order of the elements in B? (★★★) \n",
    "(**hint**: np.where)"
   ]
  },
  {
   "cell_type": "code",
   "execution_count": 39,
   "metadata": {},
   "outputs": [
    {
     "name": "stdout",
     "output_type": "stream",
     "text": [
      "[0 2 6 7]\n"
     ]
    }
   ],
   "source": [
    "A = np.random.randint(0,5,(8,3))\n",
    "B = np.random.randint(0,5,(2,2))\n",
    "\n",
    "C = (A[..., np.newaxis, np.newaxis] == B)\n",
    "rows = np.where(C.any((3,1)).all(1))[0]\n",
    "print(rows)"
   ]
  },
  {
   "cell_type": "markdown",
   "metadata": {},
   "source": [
    "#### 94. Considering a 10x3 matrix, extract rows with unequal values (e.g. \\[2,2,3\\]) (★★★)"
   ]
  },
  {
   "cell_type": "code",
   "execution_count": 40,
   "metadata": {},
   "outputs": [
    {
     "name": "stdout",
     "output_type": "stream",
     "text": [
      "[[4 1 0]\n",
      " [2 2 0]\n",
      " [2 4 1]\n",
      " [2 1 3]\n",
      " [3 3 1]\n",
      " [1 1 4]\n",
      " [0 2 3]\n",
      " [4 1 1]\n",
      " [2 0 2]\n",
      " [2 1 4]]\n",
      "[[4 1 0]\n",
      " [2 2 0]\n",
      " [2 4 1]\n",
      " [2 1 3]\n",
      " [3 3 1]\n",
      " [1 1 4]\n",
      " [0 2 3]\n",
      " [4 1 1]\n",
      " [2 0 2]\n",
      " [2 1 4]]\n"
     ]
    }
   ],
   "source": [
    "x = np.random.randint(0,5,(10,3))\n",
    "print(x)\n",
    "E = np.all(x[:,1:] == x[:,:-1], axis=1)\n",
    "U = x[~E]\n",
    "print(U)"
   ]
  },
  {
   "cell_type": "markdown",
   "metadata": {},
   "source": [
    "#### 95. Convert a vector of ints into a matrix binary representation (★★★) \n",
    "(**hint**: np.unpackbits)"
   ]
  },
  {
   "cell_type": "code",
   "execution_count": 41,
   "metadata": {},
   "outputs": [
    {
     "name": "stdout",
     "output_type": "stream",
     "text": [
      "[[0 0 0 0 0 0 0 0]\n",
      " [0 0 0 0 0 0 0 1]\n",
      " [0 0 0 0 0 0 1 0]\n",
      " [0 0 0 0 0 0 1 1]\n",
      " [0 0 0 0 1 1 1 1]\n",
      " [0 0 0 1 0 0 0 0]\n",
      " [0 0 1 0 0 0 0 0]\n",
      " [0 1 0 0 0 0 0 0]\n",
      " [1 0 0 0 0 0 0 0]]\n",
      "[[0 0 0 0 0 0 0 0]\n",
      " [0 0 0 0 0 0 0 1]\n",
      " [0 0 0 0 0 0 1 0]\n",
      " [0 0 0 0 0 0 1 1]\n",
      " [0 0 0 0 1 1 1 1]\n",
      " [0 0 0 1 0 0 0 0]\n",
      " [0 0 1 0 0 0 0 0]\n",
      " [0 1 0 0 0 0 0 0]\n",
      " [1 0 0 0 0 0 0 0]]\n"
     ]
    }
   ],
   "source": [
    "I = np.array([0, 1, 2, 3, 15, 16, 32, 64, 128])\n",
    "B = ((I.reshape(-1,1) & (2**np.arange(8))) != 0).astype(int)\n",
    "print(B[:,::-1])\n",
    "\n",
    "I = np.array([0, 1, 2, 3, 15, 16, 32, 64, 128], dtype=np.uint8)\n",
    "print(np.unpackbits(I[:, np.newaxis], axis=1))"
   ]
  },
  {
   "cell_type": "markdown",
   "metadata": {},
   "source": [
    "#### 96. Given a two dimensional array, how to extract unique rows? (★★★) \n",
    "(**hint**: np.ascontiguousarray)"
   ]
  },
  {
   "cell_type": "code",
   "execution_count": 42,
   "metadata": {},
   "outputs": [
    {
     "name": "stdout",
     "output_type": "stream",
     "text": [
      "[[0 1 1]\n",
      " [1 1 0]]\n"
     ]
    }
   ],
   "source": [
    "Z = np.random.randint(0,2,(6,3))\n",
    "T = np.ascontiguousarray(Z).view(np.dtype((np.void, Z.dtype.itemsize * Z.shape[1])))\n",
    "_, idx = np.unique(T, return_index=True)\n",
    "uZ = Z[idx]\n",
    "print(uZ)"
   ]
  },
  {
   "cell_type": "markdown",
   "metadata": {},
   "source": [
    "#### 97. Considering 2 vectors A & B, write the einsum equivalent of inner, outer, sum, and mul function (★★★) \n",
    "(**hint**: np.einsum)"
   ]
  },
  {
   "cell_type": "code",
   "execution_count": 43,
   "metadata": {},
   "outputs": [
    {
     "data": {
      "text/plain": [
       "array([[0.15216993, 0.480322  , 0.59373945, 0.44881349, 0.18780432,\n",
       "        0.61796809, 0.6169992 , 0.44948983, 0.3726125 , 0.12364205],\n",
       "       [0.04059882, 0.12814956, 0.15840925, 0.11974311, 0.05010605,\n",
       "        0.16487343, 0.16461493, 0.11992356, 0.09941274, 0.03298761],\n",
       "       [0.09952422, 0.31414665, 0.38832546, 0.29353904, 0.1228303 ,\n",
       "        0.4041718 , 0.40353811, 0.29398138, 0.24370104, 0.08086604],\n",
       "       [0.04630961, 0.14617557, 0.1806917 , 0.13658664, 0.05715416,\n",
       "        0.18806516, 0.1877703 , 0.13679247, 0.11339652, 0.03762777],\n",
       "       [0.02598364, 0.08201697, 0.10138347, 0.07663676, 0.03206836,\n",
       "        0.10552061, 0.10535516, 0.07675225, 0.06362512, 0.02111239],\n",
       "       [0.0312708 , 0.09870579, 0.12201299, 0.09223082, 0.03859364,\n",
       "        0.12699195, 0.12679284, 0.0923698 , 0.07657157, 0.02540834],\n",
       "       [0.12525744, 0.39537314, 0.48873179, 0.36943717, 0.15458959,\n",
       "        0.5086754 , 0.50787786, 0.3699939 , 0.30671294, 0.10177495],\n",
       "       [0.01270473, 0.04010227, 0.04957154, 0.03747161, 0.01567986,\n",
       "        0.0515944 , 0.05151351, 0.03752808, 0.03110956, 0.01032292],\n",
       "       [0.22056318, 0.69620423, 0.86059751, 0.65053413, 0.27221356,\n",
       "        0.89571579, 0.89431142, 0.65151445, 0.54008435, 0.17921336],\n",
       "       [0.21065453, 0.66492773, 0.82193575, 0.62130932, 0.25998455,\n",
       "        0.85547636, 0.85413509, 0.6222456 , 0.51582143, 0.17116232]])"
      ]
     },
     "execution_count": 43,
     "metadata": {},
     "output_type": "execute_result"
    }
   ],
   "source": [
    "A = np.random.uniform(0,1,10)\n",
    "B = np.random.uniform(0,1,10)\n",
    "\n",
    "np.einsum('i->', A)       \n",
    "np.einsum('i,i->i', A, B) \n",
    "np.einsum('i,i', A, B)    \n",
    "np.einsum('i,j->ij', A, B) "
   ]
  },
  {
   "cell_type": "markdown",
   "metadata": {},
   "source": [
    "#### 98. Considering a path described by two vectors (X,Y), how to sample it using equidistant samples (★★★)? \n",
    "(**hint**: np.cumsum, np.interp)"
   ]
  },
  {
   "cell_type": "code",
   "execution_count": 47,
   "metadata": {},
   "outputs": [],
   "source": [
    "phi = np.arange(0, 10*np.pi, 0.1)\n",
    "a = 1\n",
    "x = a*phi*np.cos(phi)\n",
    "y = a*phi*np.sin(phi)\n",
    "\n",
    "dr = (np.diff(x)**2 + np.diff(y)**2)**.5 \n",
    "r = np.zeros_like(x)\n",
    "r[1:] = np.cumsum(dr)                \n",
    "r_int = np.linspace(0, r.max(), 200) \n",
    "x_int = np.interp(r_int, r, x)       \n",
    "y_int = np.interp(r_int, r, y)"
   ]
  },
  {
   "cell_type": "markdown",
   "metadata": {},
   "source": [
    "#### 99. Given an integer n and a 2D array X, select from X the rows which can be interpreted as draws from a multinomial distribution with n degrees, i.e., the rows which only contain integers and which sum to n. (★★★) \n",
    "(**hint**: np.logical\\_and.reduce, np.mod)"
   ]
  },
  {
   "cell_type": "code",
   "execution_count": 48,
   "metadata": {},
   "outputs": [
    {
     "name": "stdout",
     "output_type": "stream",
     "text": [
      "[[2. 0. 1. 1.]]\n"
     ]
    }
   ],
   "source": [
    "X = np.asarray([[1.0, 0.0, 3.0, 8.0],\n",
    "                [2.0, 0.0, 1.0, 1.0],\n",
    "                [1.5, 2.5, 1.0, 0.0]])\n",
    "n = 4\n",
    "M = np.logical_and.reduce(np.mod(X, 1) == 0, axis=-1)\n",
    "M &= (X.sum(axis=-1) == n)\n",
    "print(X[M])"
   ]
  },
  {
   "cell_type": "markdown",
   "metadata": {},
   "source": [
    "#### 100. Compute bootstrapped 95% confidence intervals for the mean of a 1D array X (i.e., resample the elements of an array with replacement N times, compute the mean of each sample, and then compute percentiles over the means). (★★★) \n",
    "(**hint**: np.percentile)"
   ]
  },
  {
   "cell_type": "code",
   "execution_count": 49,
   "metadata": {},
   "outputs": [
    {
     "name": "stdout",
     "output_type": "stream",
     "text": [
      "[-0.11534104  0.27796727]\n"
     ]
    }
   ],
   "source": [
    "X = np.random.randn(100) \n",
    "N = 1000\n",
    "idx = np.random.randint(0, X.size, (N, X.size))\n",
    "means = X[idx].mean(axis=1)\n",
    "confint = np.percentile(means, [2.5, 97.5])\n",
    "print(confint)"
   ]
  },
  {
   "cell_type": "code",
   "execution_count": null,
   "metadata": {},
   "outputs": [],
   "source": []
  }
 ],
 "metadata": {
  "kernelspec": {
   "display_name": "Python 3 (ipykernel)",
   "language": "python",
   "name": "python3"
  },
  "language_info": {
   "codemirror_mode": {
    "name": "ipython",
    "version": 3
   },
   "file_extension": ".py",
   "mimetype": "text/x-python",
   "name": "python",
   "nbconvert_exporter": "python",
   "pygments_lexer": "ipython3",
   "version": "3.10.4"
  }
 },
 "nbformat": 4,
 "nbformat_minor": 1
}
